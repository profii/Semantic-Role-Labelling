{
  "cells": [
    {
      "cell_type": "markdown",
      "id": "vZBACc3e1bmF",
      "metadata": {
        "id": "vZBACc3e1bmF"
      },
      "source": [
        "# Semantic Role Labelling"
      ]
    },
    {
      "cell_type": "markdown",
      "id": "0kovfcb11bmF",
      "metadata": {
        "id": "0kovfcb11bmF"
      },
      "source": [
        "The main statements that may describe the Semantic Role Labelling:\n",
        "- It is the task of assigning roles to spans in sentences.\n",
        "- It is the task of automatically semantic role labeling finding the semantic roles of each argument of each predicate in a sentence.\n",
        "\n",
        "Dataset uses the following labels:\n",
        "    \n",
        "    - O\n",
        "    - B-Object\n",
        "    - I-Object\n",
        "    - B-Aspect\n",
        "    - I-Aspect\n",
        "    - B-Predicate\n",
        "    - I-Predicate\n",
        "\n",
        "Thus, the main task is to assign one of such labels to each of the words in the test set."
      ]
    },
    {
      "cell_type": "markdown",
      "id": "AFuqXcRF1bmF",
      "metadata": {
        "id": "AFuqXcRF1bmF"
      },
      "source": [
        "In our experiments we considered a popular solution for the semantic role labelling, which consists of NER algorythm and BERT model with additional layer.\n",
        "These steps are described in detail in the following relevant sub-sections."
      ]
    },
    {
      "cell_type": "markdown",
      "id": "FC_ln-Zw1bmG",
      "metadata": {
        "id": "FC_ln-Zw1bmG"
      },
      "source": [
        "### Pre-processing"
      ]
    },
    {
      "cell_type": "markdown",
      "id": "esVKOGHLKm3B",
      "metadata": {
        "id": "esVKOGHLKm3B"
      },
      "source": [
        "We considered dataset pre-processing because of incorrect punctuation separation inside the BERT model, and due to pruning input values.\n",
        "\n",
        "Thereby, we did the following tasks:\n",
        "\n",
        "    - Separating data into sentences with empty lines (NaN).\n",
        "    - Clean punctuation into single dot.\n",
        "    - Reconstruct labels to [ O, Object, Aspect, Predicate ]."
      ]
    },
    {
      "cell_type": "markdown",
      "id": "biXWJoljWU7I",
      "metadata": {
        "id": "biXWJoljWU7I"
      },
      "source": [
        "## Requirements"
      ]
    },
    {
      "cell_type": "code",
      "execution_count": 2,
      "id": "YFO4gMI_C9KA",
      "metadata": {
        "colab": {
          "base_uri": "https://localhost:8080/"
        },
        "id": "YFO4gMI_C9KA",
        "outputId": "555fa131-e17e-4ed3-98a2-4046ef67fc32"
      },
      "outputs": [
        {
          "name": "stdout",
          "output_type": "stream",
          "text": [
            "Drive already mounted at /content/drive; to attempt to forcibly remount, call drive.mount(\"/content/drive\", force_remount=True).\n"
          ]
        }
      ],
      "source": [
        "# Connect to Google Drive and upload a folder\n",
        "from google.colab import drive\n",
        "drive.mount('/content/drive')"
      ]
    },
    {
      "cell_type": "code",
      "execution_count": 3,
      "id": "gGmU1C6fWU7J",
      "metadata": {
        "colab": {
          "base_uri": "https://localhost:8080/"
        },
        "id": "gGmU1C6fWU7J",
        "outputId": "4f94d60b-48ed-415f-e21c-b2f35b3c1733"
      },
      "outputs": [
        {
          "name": "stdout",
          "output_type": "stream",
          "text": [
            "Looking in indexes: https://pypi.org/simple, https://us-python.pkg.dev/colab-wheels/public/simple/\n",
            "Requirement already satisfied: transformers in /usr/local/lib/python3.8/dist-packages (4.25.1)\n",
            "Requirement already satisfied: pyyaml>=5.1 in /usr/local/lib/python3.8/dist-packages (from transformers) (6.0)\n",
            "Requirement already satisfied: huggingface-hub<1.0,>=0.10.0 in /usr/local/lib/python3.8/dist-packages (from transformers) (0.11.1)\n",
            "Requirement already satisfied: requests in /usr/local/lib/python3.8/dist-packages (from transformers) (2.23.0)\n",
            "Requirement already satisfied: packaging>=20.0 in /usr/local/lib/python3.8/dist-packages (from transformers) (21.3)\n",
            "Requirement already satisfied: regex!=2019.12.17 in /usr/local/lib/python3.8/dist-packages (from transformers) (2022.6.2)\n",
            "Requirement already satisfied: filelock in /usr/local/lib/python3.8/dist-packages (from transformers) (3.8.0)\n",
            "Requirement already satisfied: tokenizers!=0.11.3,<0.14,>=0.11.1 in /usr/local/lib/python3.8/dist-packages (from transformers) (0.13.2)\n",
            "Requirement already satisfied: numpy>=1.17 in /usr/local/lib/python3.8/dist-packages (from transformers) (1.21.6)\n",
            "Requirement already satisfied: tqdm>=4.27 in /usr/local/lib/python3.8/dist-packages (from transformers) (4.64.1)\n",
            "Requirement already satisfied: typing-extensions>=3.7.4.3 in /usr/local/lib/python3.8/dist-packages (from huggingface-hub<1.0,>=0.10.0->transformers) (4.4.0)\n",
            "Requirement already satisfied: pyparsing!=3.0.5,>=2.0.2 in /usr/local/lib/python3.8/dist-packages (from packaging>=20.0->transformers) (3.0.9)\n",
            "Requirement already satisfied: certifi>=2017.4.17 in /usr/local/lib/python3.8/dist-packages (from requests->transformers) (2022.9.24)\n",
            "Requirement already satisfied: chardet<4,>=3.0.2 in /usr/local/lib/python3.8/dist-packages (from requests->transformers) (3.0.4)\n",
            "Requirement already satisfied: urllib3!=1.25.0,!=1.25.1,<1.26,>=1.21.1 in /usr/local/lib/python3.8/dist-packages (from requests->transformers) (1.24.3)\n",
            "Requirement already satisfied: idna<3,>=2.5 in /usr/local/lib/python3.8/dist-packages (from requests->transformers) (2.10)\n"
          ]
        }
      ],
      "source": [
        "!pip install transformers"
      ]
    },
    {
      "cell_type": "code",
      "execution_count": 4,
      "id": "kSvHj3VJ9l1l",
      "metadata": {
        "id": "kSvHj3VJ9l1l"
      },
      "outputs": [],
      "source": [
        "import pandas as pd\n",
        "import numpy as np\n",
        "import torch\n",
        "import torch.optim as optim\n",
        "\n",
        "import re # Regular expression\n",
        "\n",
        "from tqdm import tqdm\n",
        "\n",
        "from transformers import BertTokenizerFast\n",
        "from transformers import BertForTokenClassification\n",
        "\n",
        "from torch.utils.data import DataLoader"
      ]
    },
    {
      "cell_type": "markdown",
      "id": "FANDnAtOWU7J",
      "metadata": {
        "id": "FANDnAtOWU7J"
      },
      "source": [
        "## Download the data"
      ]
    },
    {
      "cell_type": "code",
      "execution_count": 5,
      "id": "_XhI-S43WU7J",
      "metadata": {
        "colab": {
          "base_uri": "https://localhost:8080/"
        },
        "id": "_XhI-S43WU7J",
        "outputId": "72c1d456-51ec-4286-c546-eb5c6bc16c26"
      },
      "outputs": [
        {
          "name": "stdout",
          "output_type": "stream",
          "text": [
            "fatal: destination path 'semantic-role-labelling' already exists and is not an empty directory.\n"
          ]
        }
      ],
      "source": [
        "!git clone https://github.com/s-nlp/semantic-role-labelling.git"
      ]
    },
    {
      "cell_type": "markdown",
      "id": "pSnuR6i7WU7K",
      "metadata": {
        "id": "pSnuR6i7WU7K"
      },
      "source": [
        "### Dataset loading\n",
        "\n",
        "**df_train** - Train dataset\n",
        "\n",
        "**df_val** - Validation dataset\n",
        "\n",
        "**df_test** - Test dataset\n",
        "\n",
        "    ['sentences', 'labels']"
      ]
    },
    {
      "cell_type": "code",
      "execution_count": 6,
      "id": "rONS85WgWU7K",
      "metadata": {
        "id": "rONS85WgWU7K"
      },
      "outputs": [],
      "source": [
        "dataset = 'train'\n",
        "dataset_dev = 'dev' # Validation dataset\n",
        "dataset_test = 'test_no_answers'\n",
        "\n",
        "dataset_dev_no = 'dev_no_answers' # Validation dataset"
      ]
    },
    {
      "cell_type": "code",
      "execution_count": 7,
      "id": "fUvxff1nCMg2",
      "metadata": {
        "id": "fUvxff1nCMg2"
      },
      "outputs": [],
      "source": [
        "path = '/content/semantic-role-labelling/' + dataset + '.tsv'\n",
        "path_dev = '/content/' + dataset_dev + '.tsv'\n",
        "path_test = '/content/semantic-role-labelling/' + dataset_test + '.tsv'\n",
        "\n",
        "path_dev_no = '/content/semantic-role-labelling/' + dataset_dev_no + '.tsv'\n",
        "\n",
        "\n",
        "df = pd.read_csv(path, sep='\\t', header= None, names=['data', 'label'], quoting=3, skip_blank_lines=False).fillna('_None_') # Train dataset\n",
        "df_dev = pd.read_csv(path_dev, sep='\\t', header= None, names=['data', 'label'], quoting=3, skip_blank_lines=False).fillna('_None_') # Dev dataset\n",
        "df_test = pd.read_csv(path_test, sep='\\t', header= None, names=['data'], quoting=3, skip_blank_lines=False).fillna('_None_') # Test dataset\n",
        "\n",
        "df_dev_no = pd.read_csv(path_dev_no, sep='\\t', header= None, names=['data'], quoting=3, skip_blank_lines=False).fillna('_None_') # Dev dataset\n"
      ]
    },
    {
      "cell_type": "markdown",
      "id": "QfQB4cWANWwm",
      "metadata": {
        "id": "QfQB4cWANWwm"
      },
      "source": [
        "### Checking"
      ]
    },
    {
      "cell_type": "code",
      "execution_count": null,
      "id": "ftcrqqCGDGwR",
      "metadata": {
        "id": "ftcrqqCGDGwR"
      },
      "outputs": [],
      "source": [
        "df.head(22)"
      ]
    },
    {
      "cell_type": "code",
      "execution_count": null,
      "id": "f_Of4ksTKTHe",
      "metadata": {
        "id": "f_Of4ksTKTHe"
      },
      "outputs": [],
      "source": [
        "df_dev.head(22)"
      ]
    },
    {
      "cell_type": "code",
      "execution_count": null,
      "id": "nUEsHqNcN1bc",
      "metadata": {
        "id": "nUEsHqNcN1bc"
      },
      "outputs": [],
      "source": [
        "df_test.head()"
      ]
    },
    {
      "cell_type": "code",
      "execution_count": null,
      "id": "7ezOWn0G5lEj",
      "metadata": {
        "id": "7ezOWn0G5lEj"
      },
      "outputs": [],
      "source": [
        "print(len(df_dev))\n",
        "print(len(df_dev_no))"
      ]
    },
    {
      "cell_type": "code",
      "execution_count": null,
      "id": "7WeATAMm7grC",
      "metadata": {
        "id": "7WeATAMm7grC"
      },
      "outputs": [],
      "source": [
        "df_dev_no.head()"
      ]
    },
    {
      "cell_type": "code",
      "execution_count": null,
      "id": "hMSn6C39fwA8",
      "metadata": {
        "colab": {
          "base_uri": "https://localhost:8080/"
        },
        "id": "hMSn6C39fwA8",
        "outputId": "bb89ad6b-a6c1-4371-e366-e9d7541b709b"
      },
      "outputs": [
        {
          "data": {
            "application/vnd.google.colaboratory.intrinsic+json": {
              "type": "string"
            },
            "text/plain": [
              "'\"'"
            ]
          },
          "execution_count": 14,
          "metadata": {},
          "output_type": "execute_result"
        }
      ],
      "source": [
        "df.data[592]"
      ]
    },
    {
      "cell_type": "code",
      "execution_count": null,
      "id": "WVuVyMkOc4cO",
      "metadata": {
        "id": "WVuVyMkOc4cO"
      },
      "outputs": [],
      "source": [
        "df_test.head(24)"
      ]
    },
    {
      "cell_type": "code",
      "execution_count": null,
      "id": "9cT1PXZpgh9d",
      "metadata": {
        "id": "9cT1PXZpgh9d"
      },
      "outputs": [],
      "source": [
        "df_dev_no.data[460:500]"
      ]
    },
    {
      "cell_type": "markdown",
      "id": "M5UCEz78WU7K",
      "metadata": {
        "id": "M5UCEz78WU7K"
      },
      "source": [
        "## Preprocessing "
      ]
    },
    {
      "cell_type": "markdown",
      "id": "Lrc5DSgwFi6C",
      "metadata": {
        "id": "Lrc5DSgwFi6C"
      },
      "source": [
        "#### Corpus preprocessing:\n",
        "    - Separating data into sentences with empty lines (NaN).\n",
        "    - Clean punctuation into single dot.\n",
        "    - Reconstruct labels to [ O, Object, Aspect, Predicate ]."
      ]
    },
    {
      "cell_type": "code",
      "execution_count": 8,
      "id": "QPMGXY5pl4lV",
      "metadata": {
        "id": "QPMGXY5pl4lV"
      },
      "outputs": [],
      "source": [
        "def count_words(df):\n",
        "\n",
        "    count_words_list = []\n",
        "    temp_count = 0\n",
        "\n",
        "    for id_w, word in enumerate(df.data):\n",
        "\n",
        "        if word == '_None_':\n",
        "          if id_w == 0:\n",
        "            temp_count = 0\n",
        "          else:\n",
        "            count_words_list.append(temp_count)\n",
        "            temp_count = 0\n",
        "\n",
        "        else:\n",
        "            temp_count += 1\n",
        "    \n",
        "    return count_words_list"
      ]
    },
    {
      "cell_type": "code",
      "execution_count": 9,
      "id": "HX6ogNq3WU7K",
      "metadata": {
        "id": "HX6ogNq3WU7K",
        "tags": []
      },
      "outputs": [],
      "source": [
        "## Sep as sentences with space\n",
        "\n",
        "def separate_text(df):\n",
        "    # Separating data into sentences with empty lines (NaN)\n",
        "\n",
        "    sentence_list = []\n",
        "    temp_list = ''\n",
        "\n",
        "    for word in df.data:\n",
        "\n",
        "        if word == '_None_':\n",
        "            sentence_list.append(temp_list)\n",
        "            temp_list = ''\n",
        "        else:\n",
        "            word = re.sub(r\"[\\\"\\—\\#\\$\\%\\&\\'\\(\\)\\*\\+\\,\\–\\-\\/\\:\\;\\<\\=\\>\\?\\@\\[\\\\\\]\\^\\?\\!\\_\\`\\{\\|\\}\\~\\«\\»ѣ\\№]\", \".\", word)\n",
        "            word = re.sub(r\"[.]+\", \".\", word)\n",
        "            \n",
        "            if temp_list == '':\n",
        "                temp_list += word\n",
        "            else:\n",
        "                temp_list += ' ' + word\n",
        "    \n",
        "    print(sentence_list[:5])\n",
        "\n",
        "    return sentence_list"
      ]
    },
    {
      "cell_type": "code",
      "execution_count": 10,
      "id": "GS3xixr_Dq83",
      "metadata": {
        "colab": {
          "base_uri": "https://localhost:8080/"
        },
        "id": "GS3xixr_Dq83",
        "outputId": "995395e7-16c7-4bf0-cb5f-f203dded8167"
      },
      "outputs": [
        {
          "name": "stdout",
          "output_type": "stream",
          "text": [
            "['mhvk . . . khgk']\n",
            "mhvk . . . khgk\n"
          ]
        }
      ],
      "source": [
        "# ex = pd.DataFrame(['mhvk', '.', ').', '\".','khgk', '_None_', '.', '_None'], columns=['data'])\n",
        "\n",
        "# sentence_list = separate_text(ex)\n",
        "\n",
        "# print(str(sentence_list[0]))"
      ]
    },
    {
      "cell_type": "code",
      "execution_count": 11,
      "id": "eXS8yolxDa9i",
      "metadata": {
        "id": "eXS8yolxDa9i"
      },
      "outputs": [],
      "source": [
        "def clean_labels(df):\n",
        "    # Reconstruct labels into [0, 1, 2, 3]. 0 - O, 1 - Object, 2 - Aspect, 3 - Predicate.\n",
        "        \n",
        "    label_list = []\n",
        "    # temp_list = [(-100)]\n",
        "    temp_list = []\n",
        "\n",
        "    for i in df.label:\n",
        "\n",
        "        if i == '_None_':\n",
        "            # temp_list.append(-100)\n",
        "            label_list.append(temp_list)\n",
        "            # temp_list = [(-100)]\n",
        "            temp_list = []\n",
        "        else:\n",
        "            if i == 'O':\n",
        "                # label = 0\n",
        "                label = 'O'\n",
        "            elif i == 'B-Object' or i == 'I-Object':\n",
        "                # label = 1\n",
        "                label = 'Object'\n",
        "            elif i == 'B-Aspect' or i == 'I-Aspect':\n",
        "                # label = 2\n",
        "                label = 'Aspect'\n",
        "            elif i == 'B-Predicate' or i == 'I-Predicate':\n",
        "                # label = 3\n",
        "                label = 'Predicate'\n",
        "            temp_list.append(label)\n",
        "\n",
        "    return label_list"
      ]
    },
    {
      "cell_type": "code",
      "execution_count": 13,
      "id": "T5cpBE46E0Tz",
      "metadata": {
        "colab": {
          "base_uri": "https://localhost:8080/"
        },
        "id": "T5cpBE46E0Tz",
        "outputId": "eac8ef21-df34-4025-fedc-a5e67a5ecc38"
      },
      "outputs": [
        {
          "name": "stdout",
          "output_type": "stream",
          "text": [
            "['also . i have recently discovered advil liquigels work much better and faster for a headache than regular ibuprofen .', 'i have always heard that motrin is better than advil for fevers . and that advil works better for body aches and pains .', 'when i was a figure skater i injuried my ankles all the time and the quickest way back on your feet is regular doses of motrin . faster acting than advil and you can take it more often . ice and keeping it above your hip .', 'in a way . halloween is even better than thanksgiving . my absolute favorite holiday . because thanksgiving divides us into separate households . while halloween unites us into bands of candy bandits .', 'i think halloween is actually safer than christmas and thanksgiving .']\n",
            "['meanwhile . though windows 8 is significantly at greater risk . 1 . 73 percent . compared to windows 8 . 1 . according to redmond . s report . it . s still significantly safer than windows 7 . windows xp . or windows vista .', 'windows 7 is still going strong even though the day was about windows 8 . microsoft announced it . s approaching 450 million copies of windows 7 sold thus far . with windows 7 consumer usage coming in greater than windows xp .', 'i have tried windows 8 and it . s lighter than windows xp .', 'moreover . windows 8 is even lighter on your resources than windows 7 . but heavier than windows xp . of course .', 'that means that for most consumers . choosing a windows 8 product edition is simpler than it . s been since october 2001 . when microsoft released windows xp in two flavors . windows xp home edition and windows xp professional edition .']\n",
            "['plus . android is developing a way faster than ios so it has chances to become a laptop replacement earlier than ios .', 'went to android earlier this year after being convinced its better then ios apple .', 'the version we showed here is ios only . because the ios code supported ibeacons earlier than android . but we are almost finished with an android one as well .', 'he . ll quickly realize why android is a better os . and even simpler to use than ios for most daily tasks .', 'and when it comes to a os being simple to use . bada is simpler to use than android . and lots faster too . but bada still has more functions than ios or wp7 .']\n",
            "['meanwhile . though windows 8 is significantly at greater risk . 1 . 73 percent . compared to windows 8 . 1 . according to redmond . s report . it . s still significantly safer than windows 7 . windows xp . or windows vista .', 'windows 7 is still going strong even though the day was about windows 8 . microsoft announced it . s approaching 450 million copies of windows 7 sold thus far . with windows 7 consumer usage coming in greater than windows xp .', 'i have tried windows 8 and it . s lighter than windows xp .', 'moreover . windows 8 is even lighter on your resources than windows 7 . but heavier than windows xp . of course .', 'that means that for most consumers . choosing a windows 8 product edition is simpler than it . s been since october 2001 . when microsoft released windows xp in two flavors . windows xp home edition and windows xp professional edition .']\n"
          ]
        }
      ],
      "source": [
        "labels_to_ids = {k: v for v, k in enumerate(['O', 'Object', 'Aspect', 'Predicate'])}\n",
        "ids_to_labels = {v: k for v, k in enumerate(['O', 'Object', 'Aspect', 'Predicate'])}\n",
        "\n",
        "\n",
        "# Appling cleaning to df (train)\n",
        "train = {'sentences':separate_text(df), 'labels':clean_labels(df)}\n",
        "\n",
        "# Appling cleaning to df_val (dev)\n",
        "val = {'sentences':separate_text(df_dev), 'labels':clean_labels(df_dev)}\n",
        "val_no = {'sentences':separate_text(df_dev_no)}\n",
        "\n",
        "test = {'sentences':separate_text(df_test)}\n",
        "\n",
        "\n",
        "df_train = pd.DataFrame(data=train)\n",
        "df_val = pd.DataFrame(data=val)\n",
        "df_test = pd.DataFrame(data=test)\n",
        "\n",
        "df_val_no = pd.DataFrame(data=val_no)"
      ]
    },
    {
      "cell_type": "code",
      "execution_count": null,
      "id": "PncKGoZ92k85",
      "metadata": {
        "colab": {
          "base_uri": "https://localhost:8080/"
        },
        "id": "PncKGoZ92k85",
        "outputId": "4ae707b3-40ee-4e83-cc9e-37f15bd74890"
      },
      "outputs": [
        {
          "name": "stdout",
          "output_type": "stream",
          "text": [
            "{'O': 0, 'Object': 1, 'Aspect': 2, 'Predicate': 3}\n"
          ]
        }
      ],
      "source": [
        "print(labels_to_ids)"
      ]
    },
    {
      "cell_type": "code",
      "execution_count": null,
      "id": "NP6mc0hkh_dV",
      "metadata": {
        "colab": {
          "base_uri": "https://localhost:8080/"
        },
        "id": "NP6mc0hkh_dV",
        "outputId": "b3298de2-9d09-4d74-d7b7-0191a33adf49"
      },
      "outputs": [
        {
          "name": "stdout",
          "output_type": "stream",
          "text": [
            "{0: 'O', 1: 'Object', 2: 'Aspect', 3: 'Predicate'}\n"
          ]
        }
      ],
      "source": [
        "print(ids_to_labels)"
      ]
    },
    {
      "cell_type": "code",
      "execution_count": null,
      "id": "D3cGr7aYjduX",
      "metadata": {
        "id": "D3cGr7aYjduX"
      },
      "outputs": [],
      "source": [
        "df_train.head()"
      ]
    },
    {
      "cell_type": "code",
      "execution_count": null,
      "id": "EhqUJyZaLT-v",
      "metadata": {
        "id": "EhqUJyZaLT-v"
      },
      "outputs": [],
      "source": [
        "df_val.head()"
      ]
    },
    {
      "cell_type": "code",
      "execution_count": null,
      "id": "K2HB3oAh6TGF",
      "metadata": {
        "id": "K2HB3oAh6TGF"
      },
      "outputs": [],
      "source": [
        "df_val_no.head()"
      ]
    },
    {
      "cell_type": "code",
      "execution_count": null,
      "id": "kHBhC_0cicOd",
      "metadata": {
        "id": "kHBhC_0cicOd"
      },
      "outputs": [],
      "source": [
        "df_test.head()"
      ]
    },
    {
      "cell_type": "markdown",
      "id": "vMZp21l5WU7K",
      "metadata": {
        "id": "vMZp21l5WU7K"
      },
      "source": [
        "## Text processing"
      ]
    },
    {
      "cell_type": "code",
      "execution_count": 14,
      "id": "868Qhnpr1v2U",
      "metadata": {
        "id": "868Qhnpr1v2U"
      },
      "outputs": [],
      "source": [
        "tokenizer = BertTokenizerFast.from_pretrained('bert-base-cased')"
      ]
    },
    {
      "cell_type": "code",
      "execution_count": 15,
      "id": "CjmQtNP60SBW",
      "metadata": {
        "id": "CjmQtNP60SBW"
      },
      "outputs": [],
      "source": [
        "label_all_tokens = False\n",
        "\n",
        "\n",
        "def align_label(texts, labels):\n",
        "    tokenized_inputs = tokenizer(texts, padding='max_length', max_length=512, truncation=True)\n",
        "\n",
        "    word_ids = tokenized_inputs.word_ids()\n",
        "\n",
        "    previous_word_idx = None\n",
        "    label_ids = []\n",
        "\n",
        "    for word_idx in word_ids:\n",
        "        if word_idx is None:\n",
        "            label_ids.append(-100)\n",
        "\n",
        "        elif word_idx != previous_word_idx:\n",
        "            try:\n",
        "                label_ids.append(labels_to_ids[labels[word_idx]])\n",
        "            except:\n",
        "                label_ids.append(-100)\n",
        "        else:\n",
        "            try:\n",
        "                label_ids.append(labels_to_ids[labels[word_idx]] if label_all_tokens else -100)\n",
        "            except:\n",
        "                label_ids.append(-100)\n",
        "        previous_word_idx = word_idx\n",
        "\n",
        "    return label_ids"
      ]
    },
    {
      "cell_type": "code",
      "execution_count": 16,
      "id": "yM0Z2OjhHFWr",
      "metadata": {
        "colab": {
          "base_uri": "https://localhost:8080/"
        },
        "id": "yM0Z2OjhHFWr",
        "outputId": "529e7424-999d-49fe-ba86-416195a9ddef"
      },
      "outputs": [
        {
          "name": "stdout",
          "output_type": "stream",
          "text": [
            "[-100, 0, 0, 0, 0, 0, 0, 1, -100, 0, -100, -100, -100, -100, 0, 0, 3, 0, 3, 0, 0, 2, 0, 0, 1, -100, -100, -100, -100, 0, -100, -100, -100, -100, -100, -100, -100, -100, -100, -100, -100, -100, -100, -100, -100, -100, -100, -100, -100, -100, -100, -100, -100, -100, -100, -100, -100, -100, -100, -100, -100, -100, -100, -100, -100, -100, -100, -100, -100, -100, -100, -100, -100, -100, -100, -100, -100, -100, -100, -100, -100, -100, -100, -100, -100, -100, -100, -100, -100, -100, -100, -100, -100, -100, -100, -100, -100, -100, -100, -100, -100, -100, -100, -100, -100, -100, -100, -100, -100, -100, -100, -100, -100, -100, -100, -100, -100, -100, -100, -100, -100, -100, -100, -100, -100, -100, -100, -100, -100, -100, -100, -100, -100, -100, -100, -100, -100, -100, -100, -100, -100, -100, -100, -100, -100, -100, -100, -100, -100, -100, -100, -100, -100, -100, -100, -100, -100, -100, -100, -100, -100, -100, -100, -100, -100, -100, -100, -100, -100, -100, -100, -100, -100, -100, -100, -100, -100, -100, -100, -100, -100, -100, -100, -100, -100, -100, -100, -100, -100, -100, -100, -100, -100, -100, -100, -100, -100, -100, -100, -100, -100, -100, -100, -100, -100, -100, -100, -100, -100, -100, -100, -100, -100, -100, -100, -100, -100, -100, -100, -100, -100, -100, -100, -100, -100, -100, -100, -100, -100, -100, -100, -100, -100, -100, -100, -100, -100, -100, -100, -100, -100, -100, -100, -100, -100, -100, -100, -100, -100, -100, -100, -100, -100, -100, -100, -100, -100, -100, -100, -100, -100, -100, -100, -100, -100, -100, -100, -100, -100, -100, -100, -100, -100, -100, -100, -100, -100, -100, -100, -100, -100, -100, -100, -100, -100, -100, -100, -100, -100, -100, -100, -100, -100, -100, -100, -100, -100, -100, -100, -100, -100, -100, -100, -100, -100, -100, -100, -100, -100, -100, -100, -100, -100, -100, -100, -100, -100, -100, -100, -100, -100, -100, -100, -100, -100, -100, -100, -100, -100, -100, -100, -100, -100, -100, -100, -100, -100, -100, -100, -100, -100, -100, -100, -100, -100, -100, -100, -100, -100, -100, -100, -100, -100, -100, -100, -100, -100, -100, -100, -100, -100, -100, -100, -100, -100, -100, -100, -100, -100, -100, -100, -100, -100, -100, -100, -100, -100, -100, -100, -100, -100, -100, -100, -100, -100, -100, -100, -100, -100, -100, -100, -100, -100, -100, -100, -100, -100, -100, -100, -100, -100, -100, -100, -100, -100, -100, -100, -100, -100, -100, -100, -100, -100, -100, -100, -100, -100, -100, -100, -100, -100, -100, -100, -100, -100, -100, -100, -100, -100, -100, -100, -100, -100, -100, -100, -100, -100, -100, -100, -100, -100, -100, -100, -100, -100, -100, -100, -100, -100, -100, -100, -100, -100, -100, -100, -100, -100, -100, -100, -100, -100, -100, -100, -100, -100, -100, -100, -100, -100, -100, -100, -100, -100, -100, -100, -100, -100, -100, -100, -100, -100, -100, -100, -100, -100, -100, -100, -100, -100, -100, -100, -100, -100, -100, -100, -100, -100, -100, -100, -100, -100, -100, -100, -100, -100, -100, -100, -100, -100, -100, -100, -100]\n"
          ]
        }
      ],
      "source": [
        "print(align_label(df_train.sentences[0], df_train.labels[0]))"
      ]
    },
    {
      "cell_type": "code",
      "execution_count": 17,
      "id": "2JOI-qJ9yFAP",
      "metadata": {
        "id": "2JOI-qJ9yFAP"
      },
      "outputs": [],
      "source": [
        "class DataSequence(torch.utils.data.Dataset):\n",
        "\n",
        "    def __init__(self, df, use_labels=False):\n",
        "        \n",
        "\n",
        "        self.use_labels = use_labels\n",
        "\n",
        "        if self.use_labels: \n",
        "          lb = df.labels\n",
        "        txt = df.sentences\n",
        "        self.texts = [tokenizer(str(i),\n",
        "                               padding='max_length', max_length = 512, truncation=True, return_tensors=\"pt\") for i in txt]\n",
        "        if self.use_labels: \n",
        "          self.labels = [align_label(i,j) for i,j in zip(txt, lb)]\n",
        "\n",
        "    def __len__(self):\n",
        "        \n",
        "        if self.use_labels:\n",
        "          return len(self.labels)\n",
        "        else:\n",
        "          return len(self.texts)\n",
        "          \n",
        "    def get_batch_data(self, idx):\n",
        "\n",
        "        return self.texts[idx]\n",
        "\n",
        "    def get_batch_labels(self, idx):\n",
        "\n",
        "        return torch.LongTensor(self.labels[idx])\n",
        "\n",
        "    def __getitem__(self, idx):\n",
        "\n",
        "        if self.use_labels:\n",
        "          batch_data = self.get_batch_data(idx)\n",
        "          batch_labels = self.get_batch_labels(idx)\n",
        "          \n",
        "          return batch_data, batch_labels\n",
        "          \n",
        "        else:\n",
        "          batch_data = self.get_batch_data(idx)\n",
        "          \n",
        "          return batch_data"
      ]
    },
    {
      "cell_type": "markdown",
      "id": "nAApNLhabG1P",
      "metadata": {
        "id": "nAApNLhabG1P"
      },
      "source": [
        "## Word embedding"
      ]
    },
    {
      "cell_type": "markdown",
      "id": "sTKR3U3dcI0C",
      "metadata": {
        "id": "sTKR3U3dcI0C"
      },
      "source": [
        "### BERT"
      ]
    },
    {
      "cell_type": "markdown",
      "id": "V4FcmgztcKqN",
      "metadata": {
        "id": "V4FcmgztcKqN"
      },
      "source": [
        "#### Create a model"
      ]
    },
    {
      "cell_type": "code",
      "execution_count": 18,
      "id": "jNwysO1We2mD",
      "metadata": {
        "id": "jNwysO1We2mD"
      },
      "outputs": [],
      "source": [
        "unique_labels = [0, 1, 2, 3]"
      ]
    },
    {
      "cell_type": "code",
      "execution_count": 19,
      "id": "B3fpYmG8Bf4f",
      "metadata": {
        "id": "B3fpYmG8Bf4f"
      },
      "outputs": [],
      "source": [
        "class BertModel(torch.nn.Module):\n",
        "    def __init__(self):\n",
        "        super(BertModel, self).__init__()\n",
        "        self.bert = BertForTokenClassification.from_pretrained('bert-base-cased', num_labels=len(unique_labels))\n",
        "\n",
        "    def forward(self, input_id, mask, label):\n",
        "        output = self.bert(input_ids=input_id, attention_mask=mask, labels=label, return_dict=False)\n",
        "        return output"
      ]
    },
    {
      "cell_type": "markdown",
      "id": "iCiz7_Ned1S6",
      "metadata": {
        "id": "iCiz7_Ned1S6"
      },
      "source": [
        "###### Train:"
      ]
    },
    {
      "cell_type": "code",
      "execution_count": 23,
      "id": "TBllz9YodN_b",
      "metadata": {
        "id": "TBllz9YodN_b"
      },
      "outputs": [],
      "source": [
        "def train_loop(model, df_train, df_val):\n",
        "\n",
        "    train_dataset = DataSequence(df_train, use_labels=True)\n",
        "    val_dataset = DataSequence(df_val, use_labels=True)\n",
        "\n",
        "    train_dataloader = DataLoader(train_dataset, num_workers=4, batch_size=TRAIN_BATCH_SIZE, shuffle=True)\n",
        "    val_dataloader = DataLoader(val_dataset, num_workers=4, batch_size=TEST_BATCH_SIZE)\n",
        "\n",
        "    use_cuda = torch.cuda.is_available()\n",
        "    device = torch.device(\"cuda\" if use_cuda else \"cpu\")\n",
        "\n",
        "\n",
        "    LEARNING_RATE =  5e-3 #0.01 # 0.005, 0.001 # 0.0005\n",
        "\n",
        "    scheduler_check = False # True\n",
        "\n",
        "    optimizer = optim.SGD(model.parameters(), lr=LEARNING_RATE)\n",
        "\n",
        "\n",
        "    if scheduler_check: \n",
        "      milestones =  [4, 7] #[6, 11, 14, 15] #[5, 9, 12, 14, 15] #[3, 6, 9, 12, 15]  # # # [5, 10, 13, 15, 16]\n",
        "      scheduler = torch.optim.lr_scheduler.MultiStepLR(optimizer, milestones, gamma=0.1)\n",
        "\n",
        "\n",
        "    if use_cuda:\n",
        "        model = model.cuda()\n",
        "\n",
        "    best_acc = 0\n",
        "    best_loss = 1000\n",
        "\n",
        "    for epoch_num in range(EPOCHS):\n",
        "\n",
        "        total_acc_train = 0\n",
        "        total_loss_train = 0\n",
        "\n",
        "        model.train()\n",
        "            \n",
        "        # print(\"lr:\", scheduler.get_last_lr())\n",
        "\n",
        "        for train_data, train_label in tqdm(train_dataloader):\n",
        "\n",
        "            # print(f'total_loss_train: {total_loss_train}')\n",
        "\n",
        "            train_label = train_label.to(device)\n",
        "            mask = train_data['attention_mask'].squeeze(1).to(device)\n",
        "            input_id = train_data['input_ids'].squeeze(1).to(device)\n",
        "\n",
        "            optimizer.zero_grad()\n",
        "            loss, logits = model(input_id, mask, train_label)\n",
        "            \n",
        "            for i in range(logits.shape[0]):\n",
        "            \n",
        "                logits_clean = logits[i][train_label[i] != -100]\n",
        "                label_clean = train_label[i][train_label[i] != -100]\n",
        "\n",
        "\n",
        "                #print(f'logits_clean: {logits_clean.size(0)} | label_clean: {label_clean.size(0)}')\n",
        "                assert logits_clean.size(0) == label_clean.size(0)\n",
        "\n",
        "\n",
        "                predictions = logits_clean.argmax(dim=1)\n",
        "                acc = (predictions == label_clean).float().mean()\n",
        "                total_acc_train += acc\n",
        "                total_loss_train += loss.item()\n",
        "\n",
        "            loss.backward()\n",
        "            optimizer.step()\n",
        "\n",
        "        if scheduler_check: scheduler.step()\n",
        "\n",
        "\n",
        "        model.eval()\n",
        "\n",
        "        total_acc_val = 0\n",
        "        total_loss_val = 0\n",
        "\n",
        "        for val_data, val_label in val_dataloader:\n",
        "\n",
        "            val_label = val_label.to(device)\n",
        "            mask = val_data['attention_mask'].squeeze(1).to(device)\n",
        "            input_id = val_data['input_ids'].squeeze(1).to(device)\n",
        "\n",
        "            loss, logits = model(input_id, mask, val_label)\n",
        "\n",
        "            for i in range(logits.shape[0]):\n",
        "\n",
        "                logits_clean = logits[i][val_label[i] != -100]\n",
        "                label_clean = val_label[i][val_label[i] != -100]\n",
        "\n",
        "                assert logits_clean.size(0) == label_clean.size(0)\n",
        "\n",
        "                predictions = logits_clean.argmax(dim=1)\n",
        "                acc = (predictions == label_clean).float().mean()\n",
        "                total_acc_val += acc\n",
        "                total_loss_val += loss.item()\n",
        "\n",
        "\n",
        "        train_accuracy = total_acc_train / len(df_train)\n",
        "        train_loss = total_loss_train / len(df_train)\n",
        "\n",
        "        val_accuracy = total_acc_val / len(df_val)\n",
        "        val_loss = total_loss_val / len(df_val)\n",
        "\n",
        "\n",
        "        print(\n",
        "            f'Epochs: {epoch_num + 1} | Train_Loss: {train_loss: .3f} | Train_Accuracy: {train_accuracy: .3f} | Val_Loss: {val_loss: .3f} | Val_Accuracy: {val_accuracy: .3f}')\n",
        "\n",
        "\n",
        "        if best_acc < val_accuracy:\n",
        "          best_acc = val_accuracy\n",
        "\n",
        "        if best_loss > val_loss:\n",
        "          best_loss = val_loss\n",
        "\n",
        "        print(\n",
        "            f'Best Val_Loss: {best_loss: .3f} | Best Val_Accuracy: {best_acc: .3f}')"
      ]
    },
    {
      "cell_type": "code",
      "execution_count": 24,
      "id": "vyRxU1JYcYJQ",
      "metadata": {
        "colab": {
          "base_uri": "https://localhost:8080/"
        },
        "id": "vyRxU1JYcYJQ",
        "outputId": "9ae87ef2-4a7c-4ab2-f3fb-1612e8817c1e"
      },
      "outputs": [
        {
          "name": "stderr",
          "output_type": "stream",
          "text": [
            "Some weights of the model checkpoint at bert-base-cased were not used when initializing BertForTokenClassification: ['cls.seq_relationship.weight', 'cls.predictions.transform.LayerNorm.bias', 'cls.predictions.bias', 'cls.predictions.transform.dense.weight', 'cls.predictions.transform.LayerNorm.weight', 'cls.predictions.transform.dense.bias', 'cls.seq_relationship.bias', 'cls.predictions.decoder.weight']\n",
            "- This IS expected if you are initializing BertForTokenClassification from the checkpoint of a model trained on another task or with another architecture (e.g. initializing a BertForSequenceClassification model from a BertForPreTraining model).\n",
            "- This IS NOT expected if you are initializing BertForTokenClassification from the checkpoint of a model that you expect to be exactly identical (initializing a BertForSequenceClassification model from a BertForSequenceClassification model).\n",
            "Some weights of BertForTokenClassification were not initialized from the model checkpoint at bert-base-cased and are newly initialized: ['classifier.weight', 'classifier.bias']\n",
            "You should probably TRAIN this model on a down-stream task to be able to use it for predictions and inference.\n"
          ]
        }
      ],
      "source": [
        "cls_only = False\n",
        "\n",
        "if cls_only:\n",
        "  EPOCHS = 15\n",
        "  TRAIN_BATCH_SIZE = 16 #16, 64, 32 8 \n",
        "  TEST_BATCH_SIZE = 16 #16, 4\n",
        "else:\n",
        "  EPOCHS = 5 #7\n",
        "  TRAIN_BATCH_SIZE = 2 #8\n",
        "  TEST_BATCH_SIZE = 2 #4\n",
        "\n",
        "\n",
        "model = BertModel()\n",
        "\n",
        "\n",
        "if cls_only:\n",
        "  for name, param in model.named_parameters():\n",
        "    if param.requires_grad and not 'classifier' in name:\n",
        "      #print(name)\n",
        "      param.requires_grad = False\n",
        "\n",
        "  for name, param in model.named_parameters():\n",
        "    if param.requires_grad: print(name)\n",
        "\n",
        "else:\n",
        "  for param in model.parameters():\n",
        "    param.requires_grad = True\n",
        "\n",
        "  for name, param in model.named_parameters():\n",
        "    if not param.requires_grad: print(name)  "
      ]
    },
    {
      "cell_type": "code",
      "execution_count": 25,
      "id": "hvQ4GJL4syRt",
      "metadata": {
        "colab": {
          "base_uri": "https://localhost:8080/"
        },
        "id": "hvQ4GJL4syRt",
        "outputId": "a496ffeb-27f8-460f-d8f4-3b8f9bdbbb7b"
      },
      "outputs": [
        {
          "name": "stderr",
          "output_type": "stream",
          "text": [
            "100%|██████████| 1167/1167 [03:33<00:00,  5.48it/s]\n"
          ]
        },
        {
          "name": "stdout",
          "output_type": "stream",
          "text": [
            "Epochs: 1 | Train_Loss:  0.263 | Train_Accuracy:  0.907 | Val_Loss:  0.352 | Val_Accuracy:  0.878\n",
            "Best Val_Loss:  0.352 | Best Val_Accuracy:  0.878\n"
          ]
        },
        {
          "name": "stderr",
          "output_type": "stream",
          "text": [
            "100%|██████████| 1167/1167 [03:38<00:00,  5.35it/s]\n"
          ]
        },
        {
          "name": "stdout",
          "output_type": "stream",
          "text": [
            "Epochs: 2 | Train_Loss:  0.165 | Train_Accuracy:  0.941 | Val_Loss:  0.292 | Val_Accuracy:  0.893\n",
            "Best Val_Loss:  0.292 | Best Val_Accuracy:  0.893\n"
          ]
        },
        {
          "name": "stderr",
          "output_type": "stream",
          "text": [
            "100%|██████████| 1167/1167 [03:39<00:00,  5.33it/s]\n"
          ]
        },
        {
          "name": "stdout",
          "output_type": "stream",
          "text": [
            "Epochs: 3 | Train_Loss:  0.138 | Train_Accuracy:  0.949 | Val_Loss:  0.369 | Val_Accuracy:  0.878\n",
            "Best Val_Loss:  0.292 | Best Val_Accuracy:  0.893\n"
          ]
        },
        {
          "name": "stderr",
          "output_type": "stream",
          "text": [
            "100%|██████████| 1167/1167 [03:39<00:00,  5.32it/s]\n"
          ]
        },
        {
          "name": "stdout",
          "output_type": "stream",
          "text": [
            "Epochs: 4 | Train_Loss:  0.119 | Train_Accuracy:  0.956 | Val_Loss:  0.321 | Val_Accuracy:  0.892\n",
            "Best Val_Loss:  0.292 | Best Val_Accuracy:  0.893\n"
          ]
        },
        {
          "name": "stderr",
          "output_type": "stream",
          "text": [
            "100%|██████████| 1167/1167 [03:39<00:00,  5.33it/s]\n"
          ]
        },
        {
          "name": "stdout",
          "output_type": "stream",
          "text": [
            "Epochs: 5 | Train_Loss:  0.104 | Train_Accuracy:  0.963 | Val_Loss:  0.372 | Val_Accuracy:  0.886\n",
            "Best Val_Loss:  0.292 | Best Val_Accuracy:  0.893\n"
          ]
        }
      ],
      "source": [
        "train_loop(model, df_train, df_val)"
      ]
    },
    {
      "cell_type": "markdown",
      "id": "-5x2F_F3WUh2",
      "metadata": {
        "id": "-5x2F_F3WUh2"
      },
      "source": [
        "### Checking"
      ]
    },
    {
      "cell_type": "code",
      "execution_count": 26,
      "id": "32pVF2dJXdRQ",
      "metadata": {
        "colab": {
          "base_uri": "https://localhost:8080/",
          "height": 424
        },
        "id": "32pVF2dJXdRQ",
        "outputId": "4d20938c-ab0b-47c4-93ff-012f92576d9e"
      },
      "outputs": [
        {
          "data": {
            "text/html": [
              "\n",
              "  <div id=\"df-cbde9d00-b66c-4049-831c-f895f328fe1e\">\n",
              "    <div class=\"colab-df-container\">\n",
              "      <div>\n",
              "<style scoped>\n",
              "    .dataframe tbody tr th:only-of-type {\n",
              "        vertical-align: middle;\n",
              "    }\n",
              "\n",
              "    .dataframe tbody tr th {\n",
              "        vertical-align: top;\n",
              "    }\n",
              "\n",
              "    .dataframe thead th {\n",
              "        text-align: right;\n",
              "    }\n",
              "</style>\n",
              "<table border=\"1\" class=\"dataframe\">\n",
              "  <thead>\n",
              "    <tr style=\"text-align: right;\">\n",
              "      <th></th>\n",
              "      <th>data</th>\n",
              "    </tr>\n",
              "  </thead>\n",
              "  <tbody>\n",
              "    <tr>\n",
              "      <th>0</th>\n",
              "      <td>plus</td>\n",
              "    </tr>\n",
              "    <tr>\n",
              "      <th>1</th>\n",
              "      <td>,</td>\n",
              "    </tr>\n",
              "    <tr>\n",
              "      <th>2</th>\n",
              "      <td>android</td>\n",
              "    </tr>\n",
              "    <tr>\n",
              "      <th>3</th>\n",
              "      <td>is</td>\n",
              "    </tr>\n",
              "    <tr>\n",
              "      <th>4</th>\n",
              "      <td>developing</td>\n",
              "    </tr>\n",
              "    <tr>\n",
              "      <th>...</th>\n",
              "      <td>...</td>\n",
              "    </tr>\n",
              "    <tr>\n",
              "      <th>9439</th>\n",
              "      <td>and</td>\n",
              "    </tr>\n",
              "    <tr>\n",
              "      <th>9440</th>\n",
              "      <td>steal</td>\n",
              "    </tr>\n",
              "    <tr>\n",
              "      <th>9441</th>\n",
              "      <td>its</td>\n",
              "    </tr>\n",
              "    <tr>\n",
              "      <th>9442</th>\n",
              "      <td>thunder</td>\n",
              "    </tr>\n",
              "    <tr>\n",
              "      <th>9443</th>\n",
              "      <td>.</td>\n",
              "    </tr>\n",
              "  </tbody>\n",
              "</table>\n",
              "<p>9444 rows × 1 columns</p>\n",
              "</div>\n",
              "      <button class=\"colab-df-convert\" onclick=\"convertToInteractive('df-cbde9d00-b66c-4049-831c-f895f328fe1e')\"\n",
              "              title=\"Convert this dataframe to an interactive table.\"\n",
              "              style=\"display:none;\">\n",
              "        \n",
              "  <svg xmlns=\"http://www.w3.org/2000/svg\" height=\"24px\"viewBox=\"0 0 24 24\"\n",
              "       width=\"24px\">\n",
              "    <path d=\"M0 0h24v24H0V0z\" fill=\"none\"/>\n",
              "    <path d=\"M18.56 5.44l.94 2.06.94-2.06 2.06-.94-2.06-.94-.94-2.06-.94 2.06-2.06.94zm-11 1L8.5 8.5l.94-2.06 2.06-.94-2.06-.94L8.5 2.5l-.94 2.06-2.06.94zm10 10l.94 2.06.94-2.06 2.06-.94-2.06-.94-.94-2.06-.94 2.06-2.06.94z\"/><path d=\"M17.41 7.96l-1.37-1.37c-.4-.4-.92-.59-1.43-.59-.52 0-1.04.2-1.43.59L10.3 9.45l-7.72 7.72c-.78.78-.78 2.05 0 2.83L4 21.41c.39.39.9.59 1.41.59.51 0 1.02-.2 1.41-.59l7.78-7.78 2.81-2.81c.8-.78.8-2.07 0-2.86zM5.41 20L4 18.59l7.72-7.72 1.47 1.35L5.41 20z\"/>\n",
              "  </svg>\n",
              "      </button>\n",
              "      \n",
              "  <style>\n",
              "    .colab-df-container {\n",
              "      display:flex;\n",
              "      flex-wrap:wrap;\n",
              "      gap: 12px;\n",
              "    }\n",
              "\n",
              "    .colab-df-convert {\n",
              "      background-color: #E8F0FE;\n",
              "      border: none;\n",
              "      border-radius: 50%;\n",
              "      cursor: pointer;\n",
              "      display: none;\n",
              "      fill: #1967D2;\n",
              "      height: 32px;\n",
              "      padding: 0 0 0 0;\n",
              "      width: 32px;\n",
              "    }\n",
              "\n",
              "    .colab-df-convert:hover {\n",
              "      background-color: #E2EBFA;\n",
              "      box-shadow: 0px 1px 2px rgba(60, 64, 67, 0.3), 0px 1px 3px 1px rgba(60, 64, 67, 0.15);\n",
              "      fill: #174EA6;\n",
              "    }\n",
              "\n",
              "    [theme=dark] .colab-df-convert {\n",
              "      background-color: #3B4455;\n",
              "      fill: #D2E3FC;\n",
              "    }\n",
              "\n",
              "    [theme=dark] .colab-df-convert:hover {\n",
              "      background-color: #434B5C;\n",
              "      box-shadow: 0px 1px 3px 1px rgba(0, 0, 0, 0.15);\n",
              "      filter: drop-shadow(0px 1px 2px rgba(0, 0, 0, 0.3));\n",
              "      fill: #FFFFFF;\n",
              "    }\n",
              "  </style>\n",
              "\n",
              "      <script>\n",
              "        const buttonEl =\n",
              "          document.querySelector('#df-cbde9d00-b66c-4049-831c-f895f328fe1e button.colab-df-convert');\n",
              "        buttonEl.style.display =\n",
              "          google.colab.kernel.accessAllowed ? 'block' : 'none';\n",
              "\n",
              "        async function convertToInteractive(key) {\n",
              "          const element = document.querySelector('#df-cbde9d00-b66c-4049-831c-f895f328fe1e');\n",
              "          const dataTable =\n",
              "            await google.colab.kernel.invokeFunction('convertToInteractive',\n",
              "                                                     [key], {});\n",
              "          if (!dataTable) return;\n",
              "\n",
              "          const docLinkHtml = 'Like what you see? Visit the ' +\n",
              "            '<a target=\"_blank\" href=https://colab.research.google.com/notebooks/data_table.ipynb>data table notebook</a>'\n",
              "            + ' to learn more about interactive tables.';\n",
              "          element.innerHTML = '';\n",
              "          dataTable['output_type'] = 'display_data';\n",
              "          await google.colab.output.renderOutput(dataTable, element);\n",
              "          const docLink = document.createElement('div');\n",
              "          docLink.innerHTML = docLinkHtml;\n",
              "          element.appendChild(docLink);\n",
              "        }\n",
              "      </script>\n",
              "    </div>\n",
              "  </div>\n",
              "  "
            ],
            "text/plain": [
              "            data\n",
              "0           plus\n",
              "1              ,\n",
              "2        android\n",
              "3             is\n",
              "4     developing\n",
              "...          ...\n",
              "9439         and\n",
              "9440       steal\n",
              "9441         its\n",
              "9442     thunder\n",
              "9443           .\n",
              "\n",
              "[9444 rows x 1 columns]"
            ]
          },
          "execution_count": 26,
          "metadata": {},
          "output_type": "execute_result"
        }
      ],
      "source": [
        "# df_devo_no = pd.read_csv(path_dev_no, sep='\\t', header= None, names=['data'], quoting=3, skip_blank_lines=False) # Dev dataset\n",
        "df_devo_no = pd.read_csv(path_dev_no, sep='\\t', header= None, names=['data'], quoting=3) # Dev dataset\n",
        "df_le_testo = pd.read_csv(path_test, sep='\\t', header= None, names=['data'], quoting=3) # Dev dataset\n",
        "\n",
        "df_devo_no\n",
        "df_le_testo"
      ]
    },
    {
      "cell_type": "code",
      "execution_count": 31,
      "id": "xmcPIgs4d3T3",
      "metadata": {
        "id": "xmcPIgs4d3T3"
      },
      "outputs": [],
      "source": [
        "def align_word_ids(texts):\n",
        "  \n",
        "    tokenized_inputs = tokenizer(texts, padding='max_length', max_length=512, truncation=True)\n",
        "\n",
        "    word_ids = tokenized_inputs.word_ids()\n",
        "\n",
        "    previous_word_idx = None\n",
        "    label_ids = []\n",
        "\n",
        "    for word_idx in word_ids:\n",
        "\n",
        "        if word_idx is None:\n",
        "            label_ids.append(-100)\n",
        "\n",
        "        elif word_idx != previous_word_idx:\n",
        "            try:\n",
        "                label_ids.append(1)\n",
        "            except:\n",
        "                label_ids.append(-100)\n",
        "        else:\n",
        "            try:\n",
        "                label_ids.append(1 if label_all_tokens else -100)\n",
        "            except:\n",
        "                label_ids.append(-100)\n",
        "        previous_word_idx = word_idx\n",
        "\n",
        "    return label_ids\n",
        "\n",
        "\n",
        "def convert_labels(prediction_label):\n",
        "    \n",
        "    labels = []\n",
        "    prev_i = 'O'\n",
        "\n",
        "    for i in prediction_label:\n",
        "        l = 'B-'\n",
        "        if i != 'O':\n",
        "            if prev_i == i:\n",
        "               l = 'I-'\n",
        "            l += i\n",
        "            labels.append(l)\n",
        "        else:\n",
        "            labels.append('O')\n",
        "        prev_i = i\n",
        "\n",
        "    return labels\n",
        "\n",
        "\n",
        "indexes_nan = []\n",
        "\n",
        "\n",
        "def evaluate(model, df_test):\n",
        "\n",
        "    test_dataset = DataSequence(df_test, use_labels=False)\n",
        "    print(len(test_dataset))\n",
        "\n",
        "    test_dataloader = DataLoader(test_dataset, num_workers=4, batch_size=1) # BATCH_SIZE\n",
        "\n",
        "    use_cuda = torch.cuda.is_available()\n",
        "    device = torch.device(\"cuda\" if use_cuda else \"cpu\")\n",
        "\n",
        "    if use_cuda:\n",
        "        model = model.cuda()\n",
        "\n",
        "    model.eval()\n",
        "\n",
        "    labels_list = []\n",
        "\n",
        "    for id, test_data in enumerate(test_dataloader):\n",
        "\n",
        "        mask = test_data['attention_mask'].squeeze(1).to(device)\n",
        "        input_id = test_data['input_ids'].squeeze(1).to(device)\n",
        "\n",
        "        sentence = df_test[\"sentences\"][id]\n",
        "\n",
        "        label_ids = torch.Tensor(align_word_ids(sentence)).unsqueeze(0).to(device)\n",
        "\n",
        "        logits = model(input_id, mask, label=None)\n",
        "\n",
        "        logits_clean = logits[0][label_ids != -100]\n",
        "\n",
        "        predictions = logits_clean.argmax(dim=1).tolist()\n",
        "\n",
        "        prediction_label = []\n",
        "        for i in predictions:\n",
        "            prediction_label.append(ids_to_labels[i])\n",
        "\n",
        "        labels_list += convert_labels(prediction_label)\n",
        "\n",
        "        indexes_nan.append(len(labels_list))\n",
        "        # labels_list.append('_NaN_') # Add empty lines\n",
        "\n",
        "    # df_devo_no['label'] = [labels_list[i] for i in range(df_devo_no.shape[0])]\n",
        "    df_le_testo['label'] = [labels_list[i] for i in range(df_le_testo.shape[0])]\n",
        "\n",
        "\n",
        "    # for i in range(df_devo_no.shape[0]):\n",
        "    #     if i != '_NaN_':\n",
        "    #         df_devo_no['label'].iloc[i] = labels_list[i]\n",
        "\n",
        "\n",
        "    # to CSV\n",
        "    # df_devo_no.to_csv('/content/semantic-role-labelling/df_devo_no_my.tsv', header=None, index=False, quoting=3, sep='\\t', encoding='utf-8')\n",
        "    df_le_testo.to_csv('/content/semantic-role-labelling/df_le_testo_my.tsv', header=None, index=False, quoting=3, sep='\\t', encoding='utf-8')\n",
        "\n",
        "    # return df_devo_no\n",
        "    return df_le_testo"
      ]
    },
    {
      "cell_type": "code",
      "execution_count": 28,
      "id": "OJ3Ncej-VFwG",
      "metadata": {
        "colab": {
          "base_uri": "https://localhost:8080/",
          "height": 496
        },
        "id": "OJ3Ncej-VFwG",
        "outputId": "1b1b1dff-2165-4cb1-83cf-3a5031401cfe"
      },
      "outputs": [
        {
          "name": "stdout",
          "output_type": "stream",
          "text": [
            "283\n"
          ]
        },
        {
          "name": "stderr",
          "output_type": "stream",
          "text": [
            "/usr/local/lib/python3.8/dist-packages/torch/utils/data/dataloader.py:554: UserWarning: This DataLoader will create 4 worker processes in total. Our suggested max number of worker in current system is 2, which is smaller than what this DataLoader is going to create. Please be aware that excessive worker creation might get DataLoader running slow or even freeze, lower the worker number to avoid potential slowness/freeze if necessary.\n",
            "  warnings.warn(_create_warning_msg(\n"
          ]
        },
        {
          "data": {
            "text/html": [
              "\n",
              "  <div id=\"df-f2b1b0c6-5289-4900-80b0-327f07bcdc6f\">\n",
              "    <div class=\"colab-df-container\">\n",
              "      <div>\n",
              "<style scoped>\n",
              "    .dataframe tbody tr th:only-of-type {\n",
              "        vertical-align: middle;\n",
              "    }\n",
              "\n",
              "    .dataframe tbody tr th {\n",
              "        vertical-align: top;\n",
              "    }\n",
              "\n",
              "    .dataframe thead th {\n",
              "        text-align: right;\n",
              "    }\n",
              "</style>\n",
              "<table border=\"1\" class=\"dataframe\">\n",
              "  <thead>\n",
              "    <tr style=\"text-align: right;\">\n",
              "      <th></th>\n",
              "      <th>data</th>\n",
              "      <th>label</th>\n",
              "    </tr>\n",
              "  </thead>\n",
              "  <tbody>\n",
              "    <tr>\n",
              "      <th>0</th>\n",
              "      <td>meanwhile</td>\n",
              "      <td>O</td>\n",
              "    </tr>\n",
              "    <tr>\n",
              "      <th>1</th>\n",
              "      <td>,</td>\n",
              "      <td>O</td>\n",
              "    </tr>\n",
              "    <tr>\n",
              "      <th>2</th>\n",
              "      <td>though</td>\n",
              "      <td>O</td>\n",
              "    </tr>\n",
              "    <tr>\n",
              "      <th>3</th>\n",
              "      <td>windows</td>\n",
              "      <td>O</td>\n",
              "    </tr>\n",
              "    <tr>\n",
              "      <th>4</th>\n",
              "      <td>8</td>\n",
              "      <td>O</td>\n",
              "    </tr>\n",
              "    <tr>\n",
              "      <th>...</th>\n",
              "      <td>...</td>\n",
              "      <td>...</td>\n",
              "    </tr>\n",
              "    <tr>\n",
              "      <th>8358</th>\n",
              "      <td>wallet</td>\n",
              "      <td>O</td>\n",
              "    </tr>\n",
              "    <tr>\n",
              "      <th>8359</th>\n",
              "      <td>,</td>\n",
              "      <td>O</td>\n",
              "    </tr>\n",
              "    <tr>\n",
              "      <th>8360</th>\n",
              "      <td>or</td>\n",
              "      <td>O</td>\n",
              "    </tr>\n",
              "    <tr>\n",
              "      <th>8361</th>\n",
              "      <td>purse</td>\n",
              "      <td>O</td>\n",
              "    </tr>\n",
              "    <tr>\n",
              "      <th>8362</th>\n",
              "      <td>.</td>\n",
              "      <td>O</td>\n",
              "    </tr>\n",
              "  </tbody>\n",
              "</table>\n",
              "<p>8363 rows × 2 columns</p>\n",
              "</div>\n",
              "      <button class=\"colab-df-convert\" onclick=\"convertToInteractive('df-f2b1b0c6-5289-4900-80b0-327f07bcdc6f')\"\n",
              "              title=\"Convert this dataframe to an interactive table.\"\n",
              "              style=\"display:none;\">\n",
              "        \n",
              "  <svg xmlns=\"http://www.w3.org/2000/svg\" height=\"24px\"viewBox=\"0 0 24 24\"\n",
              "       width=\"24px\">\n",
              "    <path d=\"M0 0h24v24H0V0z\" fill=\"none\"/>\n",
              "    <path d=\"M18.56 5.44l.94 2.06.94-2.06 2.06-.94-2.06-.94-.94-2.06-.94 2.06-2.06.94zm-11 1L8.5 8.5l.94-2.06 2.06-.94-2.06-.94L8.5 2.5l-.94 2.06-2.06.94zm10 10l.94 2.06.94-2.06 2.06-.94-2.06-.94-.94-2.06-.94 2.06-2.06.94z\"/><path d=\"M17.41 7.96l-1.37-1.37c-.4-.4-.92-.59-1.43-.59-.52 0-1.04.2-1.43.59L10.3 9.45l-7.72 7.72c-.78.78-.78 2.05 0 2.83L4 21.41c.39.39.9.59 1.41.59.51 0 1.02-.2 1.41-.59l7.78-7.78 2.81-2.81c.8-.78.8-2.07 0-2.86zM5.41 20L4 18.59l7.72-7.72 1.47 1.35L5.41 20z\"/>\n",
              "  </svg>\n",
              "      </button>\n",
              "      \n",
              "  <style>\n",
              "    .colab-df-container {\n",
              "      display:flex;\n",
              "      flex-wrap:wrap;\n",
              "      gap: 12px;\n",
              "    }\n",
              "\n",
              "    .colab-df-convert {\n",
              "      background-color: #E8F0FE;\n",
              "      border: none;\n",
              "      border-radius: 50%;\n",
              "      cursor: pointer;\n",
              "      display: none;\n",
              "      fill: #1967D2;\n",
              "      height: 32px;\n",
              "      padding: 0 0 0 0;\n",
              "      width: 32px;\n",
              "    }\n",
              "\n",
              "    .colab-df-convert:hover {\n",
              "      background-color: #E2EBFA;\n",
              "      box-shadow: 0px 1px 2px rgba(60, 64, 67, 0.3), 0px 1px 3px 1px rgba(60, 64, 67, 0.15);\n",
              "      fill: #174EA6;\n",
              "    }\n",
              "\n",
              "    [theme=dark] .colab-df-convert {\n",
              "      background-color: #3B4455;\n",
              "      fill: #D2E3FC;\n",
              "    }\n",
              "\n",
              "    [theme=dark] .colab-df-convert:hover {\n",
              "      background-color: #434B5C;\n",
              "      box-shadow: 0px 1px 3px 1px rgba(0, 0, 0, 0.15);\n",
              "      filter: drop-shadow(0px 1px 2px rgba(0, 0, 0, 0.3));\n",
              "      fill: #FFFFFF;\n",
              "    }\n",
              "  </style>\n",
              "\n",
              "      <script>\n",
              "        const buttonEl =\n",
              "          document.querySelector('#df-f2b1b0c6-5289-4900-80b0-327f07bcdc6f button.colab-df-convert');\n",
              "        buttonEl.style.display =\n",
              "          google.colab.kernel.accessAllowed ? 'block' : 'none';\n",
              "\n",
              "        async function convertToInteractive(key) {\n",
              "          const element = document.querySelector('#df-f2b1b0c6-5289-4900-80b0-327f07bcdc6f');\n",
              "          const dataTable =\n",
              "            await google.colab.kernel.invokeFunction('convertToInteractive',\n",
              "                                                     [key], {});\n",
              "          if (!dataTable) return;\n",
              "\n",
              "          const docLinkHtml = 'Like what you see? Visit the ' +\n",
              "            '<a target=\"_blank\" href=https://colab.research.google.com/notebooks/data_table.ipynb>data table notebook</a>'\n",
              "            + ' to learn more about interactive tables.';\n",
              "          element.innerHTML = '';\n",
              "          dataTable['output_type'] = 'display_data';\n",
              "          await google.colab.output.renderOutput(dataTable, element);\n",
              "          const docLink = document.createElement('div');\n",
              "          docLink.innerHTML = docLinkHtml;\n",
              "          element.appendChild(docLink);\n",
              "        }\n",
              "      </script>\n",
              "    </div>\n",
              "  </div>\n",
              "  "
            ],
            "text/plain": [
              "           data label\n",
              "0     meanwhile     O\n",
              "1             ,     O\n",
              "2        though     O\n",
              "3       windows     O\n",
              "4             8     O\n",
              "...         ...   ...\n",
              "8358     wallet     O\n",
              "8359          ,     O\n",
              "8360         or     O\n",
              "8361      purse     O\n",
              "8362          .     O\n",
              "\n",
              "[8363 rows x 2 columns]"
            ]
          },
          "execution_count": 28,
          "metadata": {},
          "output_type": "execute_result"
        }
      ],
      "source": [
        "# model = BertModel()\n",
        "\n",
        "d = evaluate(model, df_val)\n",
        "\n",
        "d"
      ]
    },
    {
      "cell_type": "code",
      "execution_count": 29,
      "id": "m8Mct3KahUC0",
      "metadata": {
        "colab": {
          "base_uri": "https://localhost:8080/"
        },
        "id": "m8Mct3KahUC0",
        "outputId": "57220615-e4df-42a6-c253-261168f1e82f"
      },
      "outputs": [
        {
          "name": "stdout",
          "output_type": "stream",
          "text": [
            "[47, 90, 104, 127, 170, 206, 223, 249, 284, 320, 370, 417, 428, 439, 460, 478, 496, 529, 551, 585, 604, 633, 654, 681, 711, 746, 786, 807, 821, 837, 857, 907, 948, 1035, 1062, 1108, 1153, 1177, 1213, 1239, 1272, 1284, 1306, 1321, 1348, 1390, 1403, 1430, 1456, 1479, 1509, 1560, 1588, 1611, 1650, 1675, 1711, 1731, 1753, 1784, 1796, 1817, 1833, 1852, 1879, 1906, 1937, 1969, 2009, 2045, 2064, 2114, 2122, 2155, 2180, 2211, 2222, 2246, 2280, 2322, 2340, 2379, 2402, 2425, 2453, 2485, 2531, 2557, 2579, 2604, 2641, 2681, 2692, 2731, 2770, 2780, 2800, 2833, 2869, 2901, 2937, 2962, 2979, 2996, 3018, 3043, 3062, 3077, 3109, 3147, 3171, 3186, 3219, 3256, 3292, 3320, 3368, 3396, 3442, 3463, 3494, 3522, 3555, 3588, 3606, 3629, 3659, 3696, 3762, 3804, 3841, 3877, 3927, 3945, 3971, 4013, 4025, 4056, 4093, 4144, 4188, 4239, 4265, 4304, 4341, 4371, 4409, 4466, 4514, 4533, 4568, 4621, 4662, 4692, 4725, 4733, 4762, 4772, 4826, 4838, 4852, 4868, 4889, 4915, 4938, 4984, 5004, 5017, 5042, 5069, 5092, 5111, 5128, 5154, 5184, 5211, 5243, 5289, 5315, 5340, 5384, 5402, 5423, 5450, 5487, 5537, 5565, 5597, 5625, 5657, 5682, 5711, 5753, 5772, 5792, 5814, 5825, 5856, 5906, 5947, 5992, 6014, 6044, 6058, 6071, 6091, 6106, 6148, 6163, 6183, 6219, 6238, 6263, 6308, 6326, 6344, 6367, 6424, 6446, 6467, 6495, 6515, 6561, 6599, 6651, 6679, 6713, 6753, 6789, 6832, 6852, 6870, 6918, 6942, 6959, 6994, 7015, 7030, 7049, 7077, 7124, 7166, 7179, 7191, 7221, 7264, 7287, 7310, 7352, 7404, 7428, 7449, 7467, 7494, 7519, 7563, 7607, 7622, 7645, 7664, 7697, 7715, 7758, 7773, 7820, 7854, 7890, 7923, 7953, 7978, 8022, 8050, 8069, 8099, 8137, 8156, 8176, 8212, 8246, 8268, 8294, 8332, 8363]\n"
          ]
        }
      ],
      "source": [
        "print(indexes_nan)"
      ]
    },
    {
      "cell_type": "code",
      "execution_count": null,
      "id": "jetsQ7SHgU8R",
      "metadata": {
        "colab": {
          "base_uri": "https://localhost:8080/"
        },
        "id": "jetsQ7SHgU8R",
        "outputId": "9d152ee0-24be-4600-e991-e7317558c5a1"
      },
      "outputs": [],
      "source": [
        "d.to_csv('/content/semantic-role-labelling/d.tsv', header=None, index=False, quoting=3, sep='\\t', encoding='utf-8')\n",
        "\n",
        "with open(\"/content/semantic-role-labelling/d.tsv\") as input:\n",
        "    lines = [line for line in input if line.strip()]\n",
        "with open(\"/content/semantic-role-labelling/d_new.tsv\", \"w\") as output:\n",
        "    i = 0\n",
        "    for line in lines:\n",
        "        output.write(line)\n",
        "        if i+1 in (indexes_nan):\n",
        "            output.write(\"\\n\")\n",
        "        i += 1\n",
        "    \n"
      ]
    },
    {
      "cell_type": "code",
      "execution_count": 32,
      "id": "EWtuaevFonfO",
      "metadata": {
        "colab": {
          "base_uri": "https://localhost:8080/",
          "height": 496
        },
        "id": "EWtuaevFonfO",
        "outputId": "b2fddbc5-2214-4138-88e5-612bee6ac555"
      },
      "outputs": [
        {
          "name": "stdout",
          "output_type": "stream",
          "text": [
            "360\n"
          ]
        },
        {
          "name": "stderr",
          "output_type": "stream",
          "text": [
            "/usr/local/lib/python3.8/dist-packages/torch/utils/data/dataloader.py:554: UserWarning: This DataLoader will create 4 worker processes in total. Our suggested max number of worker in current system is 2, which is smaller than what this DataLoader is going to create. Please be aware that excessive worker creation might get DataLoader running slow or even freeze, lower the worker number to avoid potential slowness/freeze if necessary.\n",
            "  warnings.warn(_create_warning_msg(\n"
          ]
        },
        {
          "data": {
            "text/html": [
              "\n",
              "  <div id=\"df-5780e047-f495-47d4-a097-7dcd8524d64b\">\n",
              "    <div class=\"colab-df-container\">\n",
              "      <div>\n",
              "<style scoped>\n",
              "    .dataframe tbody tr th:only-of-type {\n",
              "        vertical-align: middle;\n",
              "    }\n",
              "\n",
              "    .dataframe tbody tr th {\n",
              "        vertical-align: top;\n",
              "    }\n",
              "\n",
              "    .dataframe thead th {\n",
              "        text-align: right;\n",
              "    }\n",
              "</style>\n",
              "<table border=\"1\" class=\"dataframe\">\n",
              "  <thead>\n",
              "    <tr style=\"text-align: right;\">\n",
              "      <th></th>\n",
              "      <th>data</th>\n",
              "      <th>label</th>\n",
              "    </tr>\n",
              "  </thead>\n",
              "  <tbody>\n",
              "    <tr>\n",
              "      <th>0</th>\n",
              "      <td>plus</td>\n",
              "      <td>O</td>\n",
              "    </tr>\n",
              "    <tr>\n",
              "      <th>1</th>\n",
              "      <td>,</td>\n",
              "      <td>O</td>\n",
              "    </tr>\n",
              "    <tr>\n",
              "      <th>2</th>\n",
              "      <td>android</td>\n",
              "      <td>B-Object</td>\n",
              "    </tr>\n",
              "    <tr>\n",
              "      <th>3</th>\n",
              "      <td>is</td>\n",
              "      <td>O</td>\n",
              "    </tr>\n",
              "    <tr>\n",
              "      <th>4</th>\n",
              "      <td>developing</td>\n",
              "      <td>B-Aspect</td>\n",
              "    </tr>\n",
              "    <tr>\n",
              "      <th>...</th>\n",
              "      <td>...</td>\n",
              "      <td>...</td>\n",
              "    </tr>\n",
              "    <tr>\n",
              "      <th>9439</th>\n",
              "      <td>and</td>\n",
              "      <td>O</td>\n",
              "    </tr>\n",
              "    <tr>\n",
              "      <th>9440</th>\n",
              "      <td>steal</td>\n",
              "      <td>O</td>\n",
              "    </tr>\n",
              "    <tr>\n",
              "      <th>9441</th>\n",
              "      <td>its</td>\n",
              "      <td>O</td>\n",
              "    </tr>\n",
              "    <tr>\n",
              "      <th>9442</th>\n",
              "      <td>thunder</td>\n",
              "      <td>O</td>\n",
              "    </tr>\n",
              "    <tr>\n",
              "      <th>9443</th>\n",
              "      <td>.</td>\n",
              "      <td>O</td>\n",
              "    </tr>\n",
              "  </tbody>\n",
              "</table>\n",
              "<p>9444 rows × 2 columns</p>\n",
              "</div>\n",
              "      <button class=\"colab-df-convert\" onclick=\"convertToInteractive('df-5780e047-f495-47d4-a097-7dcd8524d64b')\"\n",
              "              title=\"Convert this dataframe to an interactive table.\"\n",
              "              style=\"display:none;\">\n",
              "        \n",
              "  <svg xmlns=\"http://www.w3.org/2000/svg\" height=\"24px\"viewBox=\"0 0 24 24\"\n",
              "       width=\"24px\">\n",
              "    <path d=\"M0 0h24v24H0V0z\" fill=\"none\"/>\n",
              "    <path d=\"M18.56 5.44l.94 2.06.94-2.06 2.06-.94-2.06-.94-.94-2.06-.94 2.06-2.06.94zm-11 1L8.5 8.5l.94-2.06 2.06-.94-2.06-.94L8.5 2.5l-.94 2.06-2.06.94zm10 10l.94 2.06.94-2.06 2.06-.94-2.06-.94-.94-2.06-.94 2.06-2.06.94z\"/><path d=\"M17.41 7.96l-1.37-1.37c-.4-.4-.92-.59-1.43-.59-.52 0-1.04.2-1.43.59L10.3 9.45l-7.72 7.72c-.78.78-.78 2.05 0 2.83L4 21.41c.39.39.9.59 1.41.59.51 0 1.02-.2 1.41-.59l7.78-7.78 2.81-2.81c.8-.78.8-2.07 0-2.86zM5.41 20L4 18.59l7.72-7.72 1.47 1.35L5.41 20z\"/>\n",
              "  </svg>\n",
              "      </button>\n",
              "      \n",
              "  <style>\n",
              "    .colab-df-container {\n",
              "      display:flex;\n",
              "      flex-wrap:wrap;\n",
              "      gap: 12px;\n",
              "    }\n",
              "\n",
              "    .colab-df-convert {\n",
              "      background-color: #E8F0FE;\n",
              "      border: none;\n",
              "      border-radius: 50%;\n",
              "      cursor: pointer;\n",
              "      display: none;\n",
              "      fill: #1967D2;\n",
              "      height: 32px;\n",
              "      padding: 0 0 0 0;\n",
              "      width: 32px;\n",
              "    }\n",
              "\n",
              "    .colab-df-convert:hover {\n",
              "      background-color: #E2EBFA;\n",
              "      box-shadow: 0px 1px 2px rgba(60, 64, 67, 0.3), 0px 1px 3px 1px rgba(60, 64, 67, 0.15);\n",
              "      fill: #174EA6;\n",
              "    }\n",
              "\n",
              "    [theme=dark] .colab-df-convert {\n",
              "      background-color: #3B4455;\n",
              "      fill: #D2E3FC;\n",
              "    }\n",
              "\n",
              "    [theme=dark] .colab-df-convert:hover {\n",
              "      background-color: #434B5C;\n",
              "      box-shadow: 0px 1px 3px 1px rgba(0, 0, 0, 0.15);\n",
              "      filter: drop-shadow(0px 1px 2px rgba(0, 0, 0, 0.3));\n",
              "      fill: #FFFFFF;\n",
              "    }\n",
              "  </style>\n",
              "\n",
              "      <script>\n",
              "        const buttonEl =\n",
              "          document.querySelector('#df-5780e047-f495-47d4-a097-7dcd8524d64b button.colab-df-convert');\n",
              "        buttonEl.style.display =\n",
              "          google.colab.kernel.accessAllowed ? 'block' : 'none';\n",
              "\n",
              "        async function convertToInteractive(key) {\n",
              "          const element = document.querySelector('#df-5780e047-f495-47d4-a097-7dcd8524d64b');\n",
              "          const dataTable =\n",
              "            await google.colab.kernel.invokeFunction('convertToInteractive',\n",
              "                                                     [key], {});\n",
              "          if (!dataTable) return;\n",
              "\n",
              "          const docLinkHtml = 'Like what you see? Visit the ' +\n",
              "            '<a target=\"_blank\" href=https://colab.research.google.com/notebooks/data_table.ipynb>data table notebook</a>'\n",
              "            + ' to learn more about interactive tables.';\n",
              "          element.innerHTML = '';\n",
              "          dataTable['output_type'] = 'display_data';\n",
              "          await google.colab.output.renderOutput(dataTable, element);\n",
              "          const docLink = document.createElement('div');\n",
              "          docLink.innerHTML = docLinkHtml;\n",
              "          element.appendChild(docLink);\n",
              "        }\n",
              "      </script>\n",
              "    </div>\n",
              "  </div>\n",
              "  "
            ],
            "text/plain": [
              "            data     label\n",
              "0           plus         O\n",
              "1              ,         O\n",
              "2        android  B-Object\n",
              "3             is         O\n",
              "4     developing  B-Aspect\n",
              "...          ...       ...\n",
              "9439         and         O\n",
              "9440       steal         O\n",
              "9441         its         O\n",
              "9442     thunder         O\n",
              "9443           .         O\n",
              "\n",
              "[9444 rows x 2 columns]"
            ]
          },
          "execution_count": 32,
          "metadata": {},
          "output_type": "execute_result"
        }
      ],
      "source": [
        "d_2 = evaluate(model, df_test)\n",
        "\n",
        "d_2"
      ]
    },
    {
      "cell_type": "code",
      "execution_count": null,
      "id": "ztwzSsDdonWh",
      "metadata": {
        "colab": {
          "base_uri": "https://localhost:8080/"
        },
        "id": "ztwzSsDdonWh",
        "outputId": "f93632c0-b478-41fd-eafe-a6bb545f7a8c"
      },
      "outputs": [],
      "source": [
        "d_2.to_csv('/content/semantic-role-labelling/d_2.tsv', header=None, index=False, quoting=3, sep='\\t', encoding='utf-8')\n",
        "\n",
        "with open(\"/content/semantic-role-labelling/d_2.tsv\") as input:\n",
        "    lines = [line for line in input if line.strip()]\n",
        "with open(\"/content/semantic-role-labelling/d_test_new.tsv\", \"w\") as output:\n",
        "    i = 0\n",
        "    for line in lines:\n",
        "        output.write(line)\n",
        "        if i+1 in (indexes_nan):\n",
        "            output.write(\"\\n\")\n",
        "        i += 1\n"
      ]
    },
    {
      "cell_type": "markdown",
      "id": "VAm1qfwf2nnO",
      "metadata": {
        "id": "VAm1qfwf2nnO"
      },
      "source": [
        "### Save answers to .csv file:"
      ]
    },
    {
      "cell_type": "code",
      "execution_count": null,
      "id": "x2sjtm3M-Yhw",
      "metadata": {
        "colab": {
          "base_uri": "https://localhost:8080/"
        },
        "id": "x2sjtm3M-Yhw",
        "outputId": "32b567b8-63f9-4e44-8f6b-d8f53115fb6b"
      },
      "outputs": [
        {
          "name": "stdout",
          "output_type": "stream",
          "text": [
            "(9804, 2)\n"
          ]
        }
      ],
      "source": [
        "path_my = '/content/semantic-role-labelling/' + dataset_test + '_my.tsv'\n",
        "df_my = pd.read_csv(path_my, sep='\\t', header= None,  names=['data', 'label'], quoting=3, skip_blank_lines=False)\n",
        "\n",
        "print(df_my.shape)"
      ]
    },
    {
      "cell_type": "code",
      "execution_count": null,
      "id": "AZOFEz_F8oC9",
      "metadata": {
        "colab": {
          "base_uri": "https://localhost:8080/",
          "height": 424
        },
        "id": "AZOFEz_F8oC9",
        "outputId": "cee5884d-e939-4911-93fd-b5d1ee379572"
      },
      "outputs": [
        {
          "data": {
            "text/html": [
              "\n",
              "  <div id=\"df-95250f55-ee19-4a7f-948b-d194dc50fe42\">\n",
              "    <div class=\"colab-df-container\">\n",
              "      <div>\n",
              "<style scoped>\n",
              "    .dataframe tbody tr th:only-of-type {\n",
              "        vertical-align: middle;\n",
              "    }\n",
              "\n",
              "    .dataframe tbody tr th {\n",
              "        vertical-align: top;\n",
              "    }\n",
              "\n",
              "    .dataframe thead th {\n",
              "        text-align: right;\n",
              "    }\n",
              "</style>\n",
              "<table border=\"1\" class=\"dataframe\">\n",
              "  <thead>\n",
              "    <tr style=\"text-align: right;\">\n",
              "      <th></th>\n",
              "      <th>data</th>\n",
              "      <th>labels</th>\n",
              "    </tr>\n",
              "  </thead>\n",
              "  <tbody>\n",
              "    <tr>\n",
              "      <th>0</th>\n",
              "      <td>plus</td>\n",
              "      <td>O</td>\n",
              "    </tr>\n",
              "    <tr>\n",
              "      <th>1</th>\n",
              "      <td>,</td>\n",
              "      <td>O</td>\n",
              "    </tr>\n",
              "    <tr>\n",
              "      <th>2</th>\n",
              "      <td>android</td>\n",
              "      <td>B-Object</td>\n",
              "    </tr>\n",
              "    <tr>\n",
              "      <th>3</th>\n",
              "      <td>is</td>\n",
              "      <td>O</td>\n",
              "    </tr>\n",
              "    <tr>\n",
              "      <th>4</th>\n",
              "      <td>developing</td>\n",
              "      <td>B-Aspect</td>\n",
              "    </tr>\n",
              "    <tr>\n",
              "      <th>...</th>\n",
              "      <td>...</td>\n",
              "      <td>...</td>\n",
              "    </tr>\n",
              "    <tr>\n",
              "      <th>9799</th>\n",
              "      <td>steal</td>\n",
              "      <td>O</td>\n",
              "    </tr>\n",
              "    <tr>\n",
              "      <th>9800</th>\n",
              "      <td>its</td>\n",
              "      <td>NaN</td>\n",
              "    </tr>\n",
              "    <tr>\n",
              "      <th>9801</th>\n",
              "      <td>thunder</td>\n",
              "      <td>O</td>\n",
              "    </tr>\n",
              "    <tr>\n",
              "      <th>9802</th>\n",
              "      <td>.</td>\n",
              "      <td>B-Object</td>\n",
              "    </tr>\n",
              "    <tr>\n",
              "      <th>9803</th>\n",
              "      <td>NaN</td>\n",
              "      <td>B-Aspect</td>\n",
              "    </tr>\n",
              "  </tbody>\n",
              "</table>\n",
              "<p>9804 rows × 2 columns</p>\n",
              "</div>\n",
              "      <button class=\"colab-df-convert\" onclick=\"convertToInteractive('df-95250f55-ee19-4a7f-948b-d194dc50fe42')\"\n",
              "              title=\"Convert this dataframe to an interactive table.\"\n",
              "              style=\"display:none;\">\n",
              "        \n",
              "  <svg xmlns=\"http://www.w3.org/2000/svg\" height=\"24px\"viewBox=\"0 0 24 24\"\n",
              "       width=\"24px\">\n",
              "    <path d=\"M0 0h24v24H0V0z\" fill=\"none\"/>\n",
              "    <path d=\"M18.56 5.44l.94 2.06.94-2.06 2.06-.94-2.06-.94-.94-2.06-.94 2.06-2.06.94zm-11 1L8.5 8.5l.94-2.06 2.06-.94-2.06-.94L8.5 2.5l-.94 2.06-2.06.94zm10 10l.94 2.06.94-2.06 2.06-.94-2.06-.94-.94-2.06-.94 2.06-2.06.94z\"/><path d=\"M17.41 7.96l-1.37-1.37c-.4-.4-.92-.59-1.43-.59-.52 0-1.04.2-1.43.59L10.3 9.45l-7.72 7.72c-.78.78-.78 2.05 0 2.83L4 21.41c.39.39.9.59 1.41.59.51 0 1.02-.2 1.41-.59l7.78-7.78 2.81-2.81c.8-.78.8-2.07 0-2.86zM5.41 20L4 18.59l7.72-7.72 1.47 1.35L5.41 20z\"/>\n",
              "  </svg>\n",
              "      </button>\n",
              "      \n",
              "  <style>\n",
              "    .colab-df-container {\n",
              "      display:flex;\n",
              "      flex-wrap:wrap;\n",
              "      gap: 12px;\n",
              "    }\n",
              "\n",
              "    .colab-df-convert {\n",
              "      background-color: #E8F0FE;\n",
              "      border: none;\n",
              "      border-radius: 50%;\n",
              "      cursor: pointer;\n",
              "      display: none;\n",
              "      fill: #1967D2;\n",
              "      height: 32px;\n",
              "      padding: 0 0 0 0;\n",
              "      width: 32px;\n",
              "    }\n",
              "\n",
              "    .colab-df-convert:hover {\n",
              "      background-color: #E2EBFA;\n",
              "      box-shadow: 0px 1px 2px rgba(60, 64, 67, 0.3), 0px 1px 3px 1px rgba(60, 64, 67, 0.15);\n",
              "      fill: #174EA6;\n",
              "    }\n",
              "\n",
              "    [theme=dark] .colab-df-convert {\n",
              "      background-color: #3B4455;\n",
              "      fill: #D2E3FC;\n",
              "    }\n",
              "\n",
              "    [theme=dark] .colab-df-convert:hover {\n",
              "      background-color: #434B5C;\n",
              "      box-shadow: 0px 1px 3px 1px rgba(0, 0, 0, 0.15);\n",
              "      filter: drop-shadow(0px 1px 2px rgba(0, 0, 0, 0.3));\n",
              "      fill: #FFFFFF;\n",
              "    }\n",
              "  </style>\n",
              "\n",
              "      <script>\n",
              "        const buttonEl =\n",
              "          document.querySelector('#df-95250f55-ee19-4a7f-948b-d194dc50fe42 button.colab-df-convert');\n",
              "        buttonEl.style.display =\n",
              "          google.colab.kernel.accessAllowed ? 'block' : 'none';\n",
              "\n",
              "        async function convertToInteractive(key) {\n",
              "          const element = document.querySelector('#df-95250f55-ee19-4a7f-948b-d194dc50fe42');\n",
              "          const dataTable =\n",
              "            await google.colab.kernel.invokeFunction('convertToInteractive',\n",
              "                                                     [key], {});\n",
              "          if (!dataTable) return;\n",
              "\n",
              "          const docLinkHtml = 'Like what you see? Visit the ' +\n",
              "            '<a target=\"_blank\" href=https://colab.research.google.com/notebooks/data_table.ipynb>data table notebook</a>'\n",
              "            + ' to learn more about interactive tables.';\n",
              "          element.innerHTML = '';\n",
              "          dataTable['output_type'] = 'display_data';\n",
              "          await google.colab.output.renderOutput(dataTable, element);\n",
              "          const docLink = document.createElement('div');\n",
              "          docLink.innerHTML = docLinkHtml;\n",
              "          element.appendChild(docLink);\n",
              "        }\n",
              "      </script>\n",
              "    </div>\n",
              "  </div>\n",
              "  "
            ],
            "text/plain": [
              "            data    labels\n",
              "0           plus         O\n",
              "1              ,         O\n",
              "2        android  B-Object\n",
              "3             is         O\n",
              "4     developing  B-Aspect\n",
              "...          ...       ...\n",
              "9799       steal         O\n",
              "9800         its       NaN\n",
              "9801     thunder         O\n",
              "9802           .  B-Object\n",
              "9803         NaN  B-Aspect\n",
              "\n",
              "[9804 rows x 2 columns]"
            ]
          },
          "execution_count": 115,
          "metadata": {},
          "output_type": "execute_result"
        }
      ],
      "source": [
        "df_testo"
      ]
    },
    {
      "cell_type": "code",
      "execution_count": null,
      "id": "JDgiLr9e-yNi",
      "metadata": {
        "colab": {
          "base_uri": "https://localhost:8080/",
          "height": 424
        },
        "id": "JDgiLr9e-yNi",
        "outputId": "8e65328f-aec2-415f-9994-e05d0f70019a"
      },
      "outputs": [
        {
          "data": {
            "text/html": [
              "\n",
              "  <div id=\"df-29a1c8f8-7d6d-42bf-952f-619338397475\">\n",
              "    <div class=\"colab-df-container\">\n",
              "      <div>\n",
              "<style scoped>\n",
              "    .dataframe tbody tr th:only-of-type {\n",
              "        vertical-align: middle;\n",
              "    }\n",
              "\n",
              "    .dataframe tbody tr th {\n",
              "        vertical-align: top;\n",
              "    }\n",
              "\n",
              "    .dataframe thead th {\n",
              "        text-align: right;\n",
              "    }\n",
              "</style>\n",
              "<table border=\"1\" class=\"dataframe\">\n",
              "  <thead>\n",
              "    <tr style=\"text-align: right;\">\n",
              "      <th></th>\n",
              "      <th>data</th>\n",
              "      <th>label</th>\n",
              "    </tr>\n",
              "  </thead>\n",
              "  <tbody>\n",
              "    <tr>\n",
              "      <th>0</th>\n",
              "      <td>plus</td>\n",
              "      <td>O</td>\n",
              "    </tr>\n",
              "    <tr>\n",
              "      <th>1</th>\n",
              "      <td>,</td>\n",
              "      <td>O</td>\n",
              "    </tr>\n",
              "    <tr>\n",
              "      <th>2</th>\n",
              "      <td>android</td>\n",
              "      <td>B-Object</td>\n",
              "    </tr>\n",
              "    <tr>\n",
              "      <th>3</th>\n",
              "      <td>is</td>\n",
              "      <td>O</td>\n",
              "    </tr>\n",
              "    <tr>\n",
              "      <th>4</th>\n",
              "      <td>developing</td>\n",
              "      <td>B-Aspect</td>\n",
              "    </tr>\n",
              "    <tr>\n",
              "      <th>...</th>\n",
              "      <td>...</td>\n",
              "      <td>...</td>\n",
              "    </tr>\n",
              "    <tr>\n",
              "      <th>9799</th>\n",
              "      <td>steal</td>\n",
              "      <td>O</td>\n",
              "    </tr>\n",
              "    <tr>\n",
              "      <th>9800</th>\n",
              "      <td>its</td>\n",
              "      <td>NaN</td>\n",
              "    </tr>\n",
              "    <tr>\n",
              "      <th>9801</th>\n",
              "      <td>thunder</td>\n",
              "      <td>O</td>\n",
              "    </tr>\n",
              "    <tr>\n",
              "      <th>9802</th>\n",
              "      <td>.</td>\n",
              "      <td>B-Object</td>\n",
              "    </tr>\n",
              "    <tr>\n",
              "      <th>9803</th>\n",
              "      <td>NaN</td>\n",
              "      <td>B-Aspect</td>\n",
              "    </tr>\n",
              "  </tbody>\n",
              "</table>\n",
              "<p>9804 rows × 2 columns</p>\n",
              "</div>\n",
              "      <button class=\"colab-df-convert\" onclick=\"convertToInteractive('df-29a1c8f8-7d6d-42bf-952f-619338397475')\"\n",
              "              title=\"Convert this dataframe to an interactive table.\"\n",
              "              style=\"display:none;\">\n",
              "        \n",
              "  <svg xmlns=\"http://www.w3.org/2000/svg\" height=\"24px\"viewBox=\"0 0 24 24\"\n",
              "       width=\"24px\">\n",
              "    <path d=\"M0 0h24v24H0V0z\" fill=\"none\"/>\n",
              "    <path d=\"M18.56 5.44l.94 2.06.94-2.06 2.06-.94-2.06-.94-.94-2.06-.94 2.06-2.06.94zm-11 1L8.5 8.5l.94-2.06 2.06-.94-2.06-.94L8.5 2.5l-.94 2.06-2.06.94zm10 10l.94 2.06.94-2.06 2.06-.94-2.06-.94-.94-2.06-.94 2.06-2.06.94z\"/><path d=\"M17.41 7.96l-1.37-1.37c-.4-.4-.92-.59-1.43-.59-.52 0-1.04.2-1.43.59L10.3 9.45l-7.72 7.72c-.78.78-.78 2.05 0 2.83L4 21.41c.39.39.9.59 1.41.59.51 0 1.02-.2 1.41-.59l7.78-7.78 2.81-2.81c.8-.78.8-2.07 0-2.86zM5.41 20L4 18.59l7.72-7.72 1.47 1.35L5.41 20z\"/>\n",
              "  </svg>\n",
              "      </button>\n",
              "      \n",
              "  <style>\n",
              "    .colab-df-container {\n",
              "      display:flex;\n",
              "      flex-wrap:wrap;\n",
              "      gap: 12px;\n",
              "    }\n",
              "\n",
              "    .colab-df-convert {\n",
              "      background-color: #E8F0FE;\n",
              "      border: none;\n",
              "      border-radius: 50%;\n",
              "      cursor: pointer;\n",
              "      display: none;\n",
              "      fill: #1967D2;\n",
              "      height: 32px;\n",
              "      padding: 0 0 0 0;\n",
              "      width: 32px;\n",
              "    }\n",
              "\n",
              "    .colab-df-convert:hover {\n",
              "      background-color: #E2EBFA;\n",
              "      box-shadow: 0px 1px 2px rgba(60, 64, 67, 0.3), 0px 1px 3px 1px rgba(60, 64, 67, 0.15);\n",
              "      fill: #174EA6;\n",
              "    }\n",
              "\n",
              "    [theme=dark] .colab-df-convert {\n",
              "      background-color: #3B4455;\n",
              "      fill: #D2E3FC;\n",
              "    }\n",
              "\n",
              "    [theme=dark] .colab-df-convert:hover {\n",
              "      background-color: #434B5C;\n",
              "      box-shadow: 0px 1px 3px 1px rgba(0, 0, 0, 0.15);\n",
              "      filter: drop-shadow(0px 1px 2px rgba(0, 0, 0, 0.3));\n",
              "      fill: #FFFFFF;\n",
              "    }\n",
              "  </style>\n",
              "\n",
              "      <script>\n",
              "        const buttonEl =\n",
              "          document.querySelector('#df-29a1c8f8-7d6d-42bf-952f-619338397475 button.colab-df-convert');\n",
              "        buttonEl.style.display =\n",
              "          google.colab.kernel.accessAllowed ? 'block' : 'none';\n",
              "\n",
              "        async function convertToInteractive(key) {\n",
              "          const element = document.querySelector('#df-29a1c8f8-7d6d-42bf-952f-619338397475');\n",
              "          const dataTable =\n",
              "            await google.colab.kernel.invokeFunction('convertToInteractive',\n",
              "                                                     [key], {});\n",
              "          if (!dataTable) return;\n",
              "\n",
              "          const docLinkHtml = 'Like what you see? Visit the ' +\n",
              "            '<a target=\"_blank\" href=https://colab.research.google.com/notebooks/data_table.ipynb>data table notebook</a>'\n",
              "            + ' to learn more about interactive tables.';\n",
              "          element.innerHTML = '';\n",
              "          dataTable['output_type'] = 'display_data';\n",
              "          await google.colab.output.renderOutput(dataTable, element);\n",
              "          const docLink = document.createElement('div');\n",
              "          docLink.innerHTML = docLinkHtml;\n",
              "          element.appendChild(docLink);\n",
              "        }\n",
              "      </script>\n",
              "    </div>\n",
              "  </div>\n",
              "  "
            ],
            "text/plain": [
              "            data     label\n",
              "0           plus         O\n",
              "1              ,         O\n",
              "2        android  B-Object\n",
              "3             is         O\n",
              "4     developing  B-Aspect\n",
              "...          ...       ...\n",
              "9799       steal         O\n",
              "9800         its       NaN\n",
              "9801     thunder         O\n",
              "9802           .  B-Object\n",
              "9803         NaN  B-Aspect\n",
              "\n",
              "[9804 rows x 2 columns]"
            ]
          },
          "execution_count": 116,
          "metadata": {},
          "output_type": "execute_result"
        }
      ],
      "source": [
        "df_my"
      ]
    }
  ],
  "metadata": {
    "accelerator": "GPU",
    "colab": {
      "collapsed_sections": [
        "CFLFn_TQWr0g",
        "B12CBz--WrJy",
        "iDEMnhjYz_b8",
        "7Y5amciWdFnO",
        "i909r3PFfb2K",
        "RD-gGddr3gwS"
      ],
      "provenance": []
    },
    "gpuClass": "standard",
    "kernelspec": {
      "display_name": "Python 3",
      "language": "python",
      "name": "python3"
    },
    "language_info": {
      "codemirror_mode": {
        "name": "ipython",
        "version": 3
      },
      "file_extension": ".py",
      "mimetype": "text/x-python",
      "name": "python",
      "nbconvert_exporter": "python",
      "pygments_lexer": "ipython3",
      "version": "3.7.10"
    },
    "widgets": {
      "application/vnd.jupyter.widget-state+json": {
        "06ad84c2c3bd4dad806aafb8ea6c0130": {
          "model_module": "@jupyter-widgets/base",
          "model_module_version": "1.2.0",
          "model_name": "LayoutModel",
          "state": {
            "_model_module": "@jupyter-widgets/base",
            "_model_module_version": "1.2.0",
            "_model_name": "LayoutModel",
            "_view_count": null,
            "_view_module": "@jupyter-widgets/base",
            "_view_module_version": "1.2.0",
            "_view_name": "LayoutView",
            "align_content": null,
            "align_items": null,
            "align_self": null,
            "border": null,
            "bottom": null,
            "display": null,
            "flex": null,
            "flex_flow": null,
            "grid_area": null,
            "grid_auto_columns": null,
            "grid_auto_flow": null,
            "grid_auto_rows": null,
            "grid_column": null,
            "grid_gap": null,
            "grid_row": null,
            "grid_template_areas": null,
            "grid_template_columns": null,
            "grid_template_rows": null,
            "height": null,
            "justify_content": null,
            "justify_items": null,
            "left": null,
            "margin": null,
            "max_height": null,
            "max_width": null,
            "min_height": null,
            "min_width": null,
            "object_fit": null,
            "object_position": null,
            "order": null,
            "overflow": null,
            "overflow_x": null,
            "overflow_y": null,
            "padding": null,
            "right": null,
            "top": null,
            "visibility": null,
            "width": null
          }
        },
        "0cea7029ac424998a4ef602414d45764": {
          "model_module": "@jupyter-widgets/controls",
          "model_module_version": "1.5.0",
          "model_name": "HTMLModel",
          "state": {
            "_dom_classes": [],
            "_model_module": "@jupyter-widgets/controls",
            "_model_module_version": "1.5.0",
            "_model_name": "HTMLModel",
            "_view_count": null,
            "_view_module": "@jupyter-widgets/controls",
            "_view_module_version": "1.5.0",
            "_view_name": "HTMLView",
            "description": "",
            "description_tooltip": null,
            "layout": "IPY_MODEL_06ad84c2c3bd4dad806aafb8ea6c0130",
            "placeholder": "​",
            "style": "IPY_MODEL_a528ddff98f54c48a4bc2a60a9c730f5",
            "value": "Downloading: 100%"
          }
        },
        "0eb338cf13654bfa865723a22cbed1a2": {
          "model_module": "@jupyter-widgets/base",
          "model_module_version": "1.2.0",
          "model_name": "LayoutModel",
          "state": {
            "_model_module": "@jupyter-widgets/base",
            "_model_module_version": "1.2.0",
            "_model_name": "LayoutModel",
            "_view_count": null,
            "_view_module": "@jupyter-widgets/base",
            "_view_module_version": "1.2.0",
            "_view_name": "LayoutView",
            "align_content": null,
            "align_items": null,
            "align_self": null,
            "border": null,
            "bottom": null,
            "display": null,
            "flex": null,
            "flex_flow": null,
            "grid_area": null,
            "grid_auto_columns": null,
            "grid_auto_flow": null,
            "grid_auto_rows": null,
            "grid_column": null,
            "grid_gap": null,
            "grid_row": null,
            "grid_template_areas": null,
            "grid_template_columns": null,
            "grid_template_rows": null,
            "height": null,
            "justify_content": null,
            "justify_items": null,
            "left": null,
            "margin": null,
            "max_height": null,
            "max_width": null,
            "min_height": null,
            "min_width": null,
            "object_fit": null,
            "object_position": null,
            "order": null,
            "overflow": null,
            "overflow_x": null,
            "overflow_y": null,
            "padding": null,
            "right": null,
            "top": null,
            "visibility": null,
            "width": null
          }
        },
        "13784e9587d14c58aa981c65a3aec5b0": {
          "model_module": "@jupyter-widgets/controls",
          "model_module_version": "1.5.0",
          "model_name": "FloatProgressModel",
          "state": {
            "_dom_classes": [],
            "_model_module": "@jupyter-widgets/controls",
            "_model_module_version": "1.5.0",
            "_model_name": "FloatProgressModel",
            "_view_count": null,
            "_view_module": "@jupyter-widgets/controls",
            "_view_module_version": "1.5.0",
            "_view_name": "ProgressView",
            "bar_style": "success",
            "description": "",
            "description_tooltip": null,
            "layout": "IPY_MODEL_0eb338cf13654bfa865723a22cbed1a2",
            "max": 435779157,
            "min": 0,
            "orientation": "horizontal",
            "style": "IPY_MODEL_3bf947cc0784497181cc2c65239b988f",
            "value": 435779157
          }
        },
        "3bf947cc0784497181cc2c65239b988f": {
          "model_module": "@jupyter-widgets/controls",
          "model_module_version": "1.5.0",
          "model_name": "ProgressStyleModel",
          "state": {
            "_model_module": "@jupyter-widgets/controls",
            "_model_module_version": "1.5.0",
            "_model_name": "ProgressStyleModel",
            "_view_count": null,
            "_view_module": "@jupyter-widgets/base",
            "_view_module_version": "1.2.0",
            "_view_name": "StyleView",
            "bar_color": null,
            "description_width": ""
          }
        },
        "49c8c374fe774a85a854abf501ad0d97": {
          "model_module": "@jupyter-widgets/base",
          "model_module_version": "1.2.0",
          "model_name": "LayoutModel",
          "state": {
            "_model_module": "@jupyter-widgets/base",
            "_model_module_version": "1.2.0",
            "_model_name": "LayoutModel",
            "_view_count": null,
            "_view_module": "@jupyter-widgets/base",
            "_view_module_version": "1.2.0",
            "_view_name": "LayoutView",
            "align_content": null,
            "align_items": null,
            "align_self": null,
            "border": null,
            "bottom": null,
            "display": null,
            "flex": null,
            "flex_flow": null,
            "grid_area": null,
            "grid_auto_columns": null,
            "grid_auto_flow": null,
            "grid_auto_rows": null,
            "grid_column": null,
            "grid_gap": null,
            "grid_row": null,
            "grid_template_areas": null,
            "grid_template_columns": null,
            "grid_template_rows": null,
            "height": null,
            "justify_content": null,
            "justify_items": null,
            "left": null,
            "margin": null,
            "max_height": null,
            "max_width": null,
            "min_height": null,
            "min_width": null,
            "object_fit": null,
            "object_position": null,
            "order": null,
            "overflow": null,
            "overflow_x": null,
            "overflow_y": null,
            "padding": null,
            "right": null,
            "top": null,
            "visibility": null,
            "width": null
          }
        },
        "a528ddff98f54c48a4bc2a60a9c730f5": {
          "model_module": "@jupyter-widgets/controls",
          "model_module_version": "1.5.0",
          "model_name": "DescriptionStyleModel",
          "state": {
            "_model_module": "@jupyter-widgets/controls",
            "_model_module_version": "1.5.0",
            "_model_name": "DescriptionStyleModel",
            "_view_count": null,
            "_view_module": "@jupyter-widgets/base",
            "_view_module_version": "1.2.0",
            "_view_name": "StyleView",
            "description_width": ""
          }
        },
        "b7ad61f436e74cec98140e8489efdf00": {
          "model_module": "@jupyter-widgets/controls",
          "model_module_version": "1.5.0",
          "model_name": "DescriptionStyleModel",
          "state": {
            "_model_module": "@jupyter-widgets/controls",
            "_model_module_version": "1.5.0",
            "_model_name": "DescriptionStyleModel",
            "_view_count": null,
            "_view_module": "@jupyter-widgets/base",
            "_view_module_version": "1.2.0",
            "_view_name": "StyleView",
            "description_width": ""
          }
        },
        "d1b9644d74ed45a4a4a81f187e211ea1": {
          "model_module": "@jupyter-widgets/controls",
          "model_module_version": "1.5.0",
          "model_name": "HBoxModel",
          "state": {
            "_dom_classes": [],
            "_model_module": "@jupyter-widgets/controls",
            "_model_module_version": "1.5.0",
            "_model_name": "HBoxModel",
            "_view_count": null,
            "_view_module": "@jupyter-widgets/controls",
            "_view_module_version": "1.5.0",
            "_view_name": "HBoxView",
            "box_style": "",
            "children": [
              "IPY_MODEL_0cea7029ac424998a4ef602414d45764",
              "IPY_MODEL_13784e9587d14c58aa981c65a3aec5b0",
              "IPY_MODEL_d2b9cf48eace4ed89cce817028841b4e"
            ],
            "layout": "IPY_MODEL_f0a2955abd1c498dbea0fed629487304"
          }
        },
        "d2b9cf48eace4ed89cce817028841b4e": {
          "model_module": "@jupyter-widgets/controls",
          "model_module_version": "1.5.0",
          "model_name": "HTMLModel",
          "state": {
            "_dom_classes": [],
            "_model_module": "@jupyter-widgets/controls",
            "_model_module_version": "1.5.0",
            "_model_name": "HTMLModel",
            "_view_count": null,
            "_view_module": "@jupyter-widgets/controls",
            "_view_module_version": "1.5.0",
            "_view_name": "HTMLView",
            "description": "",
            "description_tooltip": null,
            "layout": "IPY_MODEL_49c8c374fe774a85a854abf501ad0d97",
            "placeholder": "​",
            "style": "IPY_MODEL_b7ad61f436e74cec98140e8489efdf00",
            "value": " 436M/436M [00:15&lt;00:00, 41.9MB/s]"
          }
        },
        "f0a2955abd1c498dbea0fed629487304": {
          "model_module": "@jupyter-widgets/base",
          "model_module_version": "1.2.0",
          "model_name": "LayoutModel",
          "state": {
            "_model_module": "@jupyter-widgets/base",
            "_model_module_version": "1.2.0",
            "_model_name": "LayoutModel",
            "_view_count": null,
            "_view_module": "@jupyter-widgets/base",
            "_view_module_version": "1.2.0",
            "_view_name": "LayoutView",
            "align_content": null,
            "align_items": null,
            "align_self": null,
            "border": null,
            "bottom": null,
            "display": null,
            "flex": null,
            "flex_flow": null,
            "grid_area": null,
            "grid_auto_columns": null,
            "grid_auto_flow": null,
            "grid_auto_rows": null,
            "grid_column": null,
            "grid_gap": null,
            "grid_row": null,
            "grid_template_areas": null,
            "grid_template_columns": null,
            "grid_template_rows": null,
            "height": null,
            "justify_content": null,
            "justify_items": null,
            "left": null,
            "margin": null,
            "max_height": null,
            "max_width": null,
            "min_height": null,
            "min_width": null,
            "object_fit": null,
            "object_position": null,
            "order": null,
            "overflow": null,
            "overflow_x": null,
            "overflow_y": null,
            "padding": null,
            "right": null,
            "top": null,
            "visibility": null,
            "width": null
          }
        }
      }
    }
  },
  "nbformat": 4,
  "nbformat_minor": 5
}
